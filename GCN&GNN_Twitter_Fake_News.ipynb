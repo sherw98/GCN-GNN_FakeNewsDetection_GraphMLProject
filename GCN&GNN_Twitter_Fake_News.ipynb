{
  "nbformat": 4,
  "nbformat_minor": 0,
  "metadata": {
    "colab": {
      "provenance": []
    },
    "kernelspec": {
      "name": "python3",
      "display_name": "Python 3"
    },
    "language_info": {
      "name": "python"
    },
    "accelerator": "GPU",
    "gpuClass": "standard"
  },
  "cells": [
    {
      "cell_type": "markdown",
      "source": [
        "### GCN and GNN-Differential-Pooling implementation for Fake News Detection on UPFD dataset"
      ],
      "metadata": {
        "id": "DwRMdI3yMBM-"
      }
    },
    {
      "cell_type": "markdown",
      "source": [
        "# Setup\n"
      ],
      "metadata": {
        "id": "fNsU9gSzsiOM"
      }
    },
    {
      "cell_type": "code",
      "source": [
        "from google.colab import drive\n",
        "drive.mount('/content/drive')"
      ],
      "metadata": {
        "colab": {
          "base_uri": "https://localhost:8080/"
        },
        "id": "7VMFggAT1nPr",
        "outputId": "2585ea4c-c3be-464f-a480-04a689399d78"
      },
      "execution_count": null,
      "outputs": [
        {
          "output_type": "stream",
          "name": "stdout",
          "text": [
            "Mounted at /content/drive\n"
          ]
        }
      ]
    },
    {
      "cell_type": "code",
      "source": [
        "# Install torch geometric\n",
        "import os\n",
        "if 'IS_GRADESCOPE_ENV' not in os.environ:\n",
        "  !pip install torch-scatter -f https://pytorch-geometric.com/whl/torch-1.13.1+cu116.html\n",
        "  !pip install torch-sparse -f https://pytorch-geometric.com/whl/torch-1.13.1+cu116.html\n",
        "  !pip install torch-geometric\n",
        "  !pip install -q git+https://github.com/snap-stanford/deepsnap.git\n",
        "\n",
        "import torch_geometric \n",
        "torch_geometric.__version__"
      ],
      "metadata": {
        "id": "krMYyS_vr7cb"
      },
      "execution_count": null,
      "outputs": []
    },
    {
      "cell_type": "code",
      "execution_count": null,
      "metadata": {
        "id": "wmMf4WhBrjDF"
      },
      "outputs": [],
      "source": [
        "import argparse\n",
        "import os.path as osp\n",
        "import numpy as np \n",
        "from math import ceil\n",
        "import pandas as pd\n",
        "import copy\n",
        "from tqdm import tqdm\n",
        "\n",
        "import torch\n",
        "import torch.nn.functional as F\n",
        "from torch.nn import Linear\n",
        "\n",
        "from torch_geometric.datasets import UPFD\n",
        "from torch_geometric.loader import DataLoader\n",
        "from torch_geometric.nn import GATConv, GCNConv, SAGEConv, global_max_pool, DenseSAGEConv\n",
        "from torch_geometric.transforms import ToUndirected\n",
        "from sklearn.metrics import f1_score, accuracy_score, roc_auc_score\n",
        "from torch_geometric.nn import global_mean_pool as gmp\n",
        "\n",
        "import torch.nn.functional as F\n",
        "from torch_geometric.data import DenseDataLoader\n",
        "import torch_geometric.transforms as T\n",
        "from torch_geometric.nn import DenseSAGEConv, dense_diff_pool\n",
        "from torch.utils.data import random_split"
      ]
    },
    {
      "cell_type": "markdown",
      "source": [
        "# GCN\n",
        "## Load Data"
      ],
      "metadata": {
        "id": "uhaorcPis4wg"
      }
    },
    {
      "cell_type": "code",
      "source": [
        "def load_data(split):\n",
        "  \"\"\"\n",
        "  Load train, validation, and test data from the UPFD dataset in PyG. Concact node\n",
        "  features *profile* and *bert*, which are Twitter user's profile attributes and \n",
        "  historical tweets encoded through BERT respectively.\n",
        "\n",
        "  -------------------------------------\n",
        "  split: 'train', 'val', or 'test' for retrieving the respective portion of UPFD.\n",
        "\n",
        "  -------------------------------------\n",
        "  Return: PyG dataset object.\n",
        "  \"\"\"\n",
        "    \n",
        "  data_profile =  UPFD('/tmp/test', \"politifact\", \"profile\", split, ToUndirected())\n",
        "  data_bert =  UPFD('/tmp/test', \"politifact\", \"bert\", split, ToUndirected())\n",
        "  data_profile.data.x = torch.cat((data_profile.data.x, data_bert.data.x),dim =1)\n",
        "\n",
        "  return data_profile"
      ],
      "metadata": {
        "id": "MwS27n4ms7jv"
      },
      "execution_count": null,
      "outputs": []
    },
    {
      "cell_type": "code",
      "source": [
        "# Retrieve data\n",
        "train_data = load_data('train')\n",
        "test_data = load_data('test')\n",
        "val_data = load_data('val')\n",
        "\n",
        "# Prepare data loader for GNN\n",
        "train_loader = DataLoader(train_data, batch_size=128, shuffle=True)\n",
        "val_loader = DataLoader(val_data, batch_size=128, shuffle=False)\n",
        "test_loader = DataLoader(test_data, batch_size=128, shuffle=False)"
      ],
      "metadata": {
        "id": "YV9G0q8Cug9K",
        "colab": {
          "base_uri": "https://localhost:8080/"
        },
        "outputId": "f6854bde-c0cf-4caa-dfbf-9ea374ab2db5"
      },
      "execution_count": null,
      "outputs": [
        {
          "output_type": "stream",
          "name": "stderr",
          "text": [
            "Downloading https://docs.google.com/uc?export=download&id=1KOmSrlGcC50PjkvRVbyb_WoWHVql06J-&confirm=t\n",
            "Extracting /tmp/test/politifact/raw/uc\n",
            "Processing...\n",
            "Done!\n",
            "Processing...\n",
            "Done!\n"
          ]
        }
      ]
    },
    {
      "cell_type": "markdown",
      "source": [
        "## GCN Architecture"
      ],
      "metadata": {
        "id": "iip4JQ1FsqEZ"
      }
    },
    {
      "cell_type": "code",
      "source": [
        "class GCN(torch.nn.Module):\n",
        "  def __init__(self, args):\n",
        "    \"\"\"\n",
        "    Initialize a simple GCN with specific parameters. \n",
        "    \n",
        "    By default, this GCN has 2 convolutional layers and 1 linear layer. \n",
        "    It also has 1 layer of batch normalization between the two conv-layers.\n",
        "\n",
        "    If num_layers is provided by user, then this function initializes\n",
        "    corresponding number of convolutional layers, with batch normalization\n",
        "    in between. Num_layers must be >= 2.\n",
        "\n",
        "    -------------------------------------\n",
        "    self: GCN object\n",
        "    args[\"num_features\"]: dimension of the input\n",
        "    args[\"hidden_dim\"]: dimension of the hidden layer(s)\n",
        "    args[\"num_classes\"]: dimension of the output (i.e. number of classes)\n",
        "    args[\"dropout\"]: percentage of neurons being zeroed, can be None\n",
        "    args[\"num_layers\"]: number of convolutional layers, must be >= 2\n",
        "\n",
        "    \"\"\"\n",
        "\n",
        "    assert args.num_layers >= 2, \"num_layers must be >= 2.\"\n",
        "\n",
        "    super(GCN, self).__init__()  \n",
        "\n",
        "    # Initialize parameters\n",
        "    self.num_layers = args.num_layers\n",
        "    self.dropout = args.dropout   \n",
        "\n",
        "    # Initialize the first convolutional layer\n",
        "    self.convs = torch.nn.ModuleList([GCNConv(args.num_features, args.hidden_dim)])\n",
        "\n",
        "    # Initialize batch normalization layer\n",
        "    self.bns = torch.nn.ModuleList()\n",
        "\n",
        "    # Initialize batch normalization layer(s) and the rest of the convolutional layer(s)\n",
        "    for _ in range(self.num_layers - 1):\n",
        "\n",
        "      # Initialize the batch normalization layer\n",
        "      self.bns.extend([torch.nn.BatchNorm1d(args.hidden_dim)])  \n",
        "\n",
        "      # Initialize the second convolutional layer  \n",
        "      self.convs.extend([GCNConv(args.hidden_dim, args.hidden_dim)])\n",
        "    \n",
        "    # Initialize the final linear layer\n",
        "    self.lin0 = Linear(args.hidden_dim, args.num_classes)\n",
        "\n",
        "\n",
        "\n",
        "  def reset_parameters(self):\n",
        "    \"\"\"\n",
        "    Reset training parameters for gradient descent.\n",
        "    \"\"\"\n",
        "    for conv in self.convs:\n",
        "        conv.reset_parameters()\n",
        "    for bn in self.bns:\n",
        "        bn.reset_parameters()\n",
        "  \n",
        "  def forward(self, data):\n",
        "    \"\"\"\n",
        "    One forward pass with GCN.\n",
        "\n",
        "    -------------------------------------\n",
        "    data: PyG Dataset data object, with properties like x, edge_index, batch, etc.\n",
        "\n",
        "    -------------------------------------\n",
        "    Return: prediction at the end of one epoch.\n",
        "    \"\"\"\n",
        "\n",
        "    # get features and adjacency matrix\n",
        "    # -- the batch propery associate nodes within one graph together, it takes \n",
        "    #    the form of [1,...,1,2,...2,...,n,...,n] with n being the number of\n",
        "    #    independent graphs in the entire dataset\n",
        "    out, edge_index, batch = data.x, data.edge_index, data.batch\n",
        "\n",
        "    # apply one layer of GNN at a time\n",
        "    for i in range(self.num_layers - 1):\n",
        "\n",
        "      # convolutional layer\n",
        "      out = self.convs[i](out, edge_index)\n",
        "\n",
        "      # batch normalization\n",
        "      out = self.bns[i](out)\n",
        "\n",
        "      # non-linear activation with Re-Lu\n",
        "      out = F.relu(out)\n",
        "\n",
        "      # drop out if requested\n",
        "      if self.dropout > 0:\n",
        "        out = F.dropout(out, training=self.training)\n",
        "    \n",
        "    # the last convolutional layer\n",
        "    out = self.convs[i+1](out, edge_index)\n",
        "\n",
        "    # apply graph level pooling per batch (each bath is one indenpendent graph)\n",
        "    # -- embeddings of each batch/graph with k nodes (1 news node, k-1 user nodes)\n",
        "    #    are pooled with the mean method to generate a batch/graph level embedding\n",
        "    #    for lebel prediction\n",
        "    out = gmp(out, batch)\n",
        "\n",
        "    df = pd.DataFrame(data=out.detach().numpy())\n",
        "    df.to_csv('embed.csv', sep=' ', header=False, index=False)\n",
        "\n",
        "    # the final linear layer\n",
        "    out = self.lin0(out)\n",
        "\n",
        "    # soft max for final prediction\n",
        "    out = F.log_softmax(out, dim=-1)\n",
        "\n",
        "    return out\n"
      ],
      "metadata": {
        "id": "aP7h923AvW9x"
      },
      "execution_count": null,
      "outputs": []
    },
    {
      "cell_type": "code",
      "source": [
        "def forward_for_viz(data):\n",
        "  \"\"\"\n",
        "  Function to output the visualization in Medium post\n",
        "  \"\"\"\n",
        "\n",
        "  out, edge_index, batch = data.x, data.edge_index, data.batch\n",
        "\n",
        "  out = gmp(out, batch)\n",
        "\n",
        "  return out"
      ],
      "metadata": {
        "id": "-E6HkAq_uO7a"
      },
      "execution_count": null,
      "outputs": []
    },
    {
      "cell_type": "markdown",
      "source": [
        "## GCN Model Training"
      ],
      "metadata": {
        "id": "XJFnruEMstcw"
      }
    },
    {
      "cell_type": "code",
      "source": [
        "\"\"\"\n",
        "parser add argument (optimizer, loss_fn, eval_metrics defualt accuracy)\n",
        "\"\"\"\n",
        "\n",
        "def train(model, data, optimizer, loss_fn):\n",
        "  \"\"\"\n",
        "  Train the model using given data, optimizer, and loss_fn\n",
        "  --------------------------------------\n",
        "  model: the model we specified\n",
        "  data: train data multiple batches of graphs, therefore needs to loop through each batch of graph \n",
        "        and add loss of each graph results. \n",
        "  \"\"\"\n",
        "  out_loss = 0.0 \n",
        "  for i, data in enumerate(data):\n",
        "\n",
        "    optimizer.zero_grad()\n",
        "    data = data.to(args.device)\n",
        "    out = model(data)\n",
        "    y = data.y\n",
        "    loss = loss_fn(out,y)\n",
        "\n",
        "    loss.backward()\n",
        "    optimizer.step()\n",
        "\n",
        "    out_loss += loss.item()\n",
        "\n",
        "  return out_loss\n"
      ],
      "metadata": {
        "id": "NjLmcvto-YDH"
      },
      "execution_count": null,
      "outputs": []
    },
    {
      "cell_type": "markdown",
      "source": [
        "## GCN Model Performance"
      ],
      "metadata": {
        "id": "1cVyFOEEsvMD"
      }
    },
    {
      "cell_type": "code",
      "source": [
        "@torch.no_grad()\n",
        "def evaluate(model, loader, eval_metric = 'all'):\n",
        "  \"\"\"\n",
        "  Evaluate performance of the a GCN model based on the eval_metric.\n",
        "  \"\"\"\n",
        "\n",
        "  # Put model in evaluation mode\n",
        "  model.eval()\n",
        "\n",
        "  pred = []\n",
        "  label = []\n",
        "\n",
        "  for data in loader:\n",
        "    pred_y = model(data).argmax(dim=-1, keepdim=True).tolist()\n",
        "    pred.extend(pred_y)\n",
        "    label.extend(data.y)\n",
        "  \n",
        "  acc = accuracy_score(label, pred)\n",
        "  f1 = f1_score(label, pred)\n",
        "  auc = roc_auc_score(label, pred)\n",
        "\n",
        "  return acc, f1, auc\n",
        "  "
      ],
      "metadata": {
        "id": "yOHd2Bmlr5kR"
      },
      "execution_count": null,
      "outputs": []
    },
    {
      "cell_type": "markdown",
      "source": [
        "## Run GCN Model"
      ],
      "metadata": {
        "id": "9v8zDSSrVanT"
      }
    },
    {
      "cell_type": "code",
      "source": [
        "parser = argparse.ArgumentParser()\n",
        "\n",
        "parser.add_argument('--seed', type=int, default=777, help='random seed')\n",
        "parser.add_argument('--device', type=str, default='cpu', help='specify cuda devices')\n",
        "\n",
        "# hyper-parameters\n",
        "parser.add_argument('--dataset', type=str, default='politifact', help='[politifact, gossipcop]')\n",
        "parser.add_argument('--batch_size', type=int, default=128, help='batch size')\n",
        "parser.add_argument('--lr', type=float, default=0.01, help='learning rate')\n",
        "parser.add_argument('--weight_decay', type=float, default=0.01, help='weight decay')\n",
        "parser.add_argument('--hidden_dim', type=int, default=128, help='hidden size')\n",
        "parser.add_argument('--dropout', type=float, default=0.0, help='dropout ratio')\n",
        "parser.add_argument('--epochs', type=int, default=100, help='maximum number of epochs')\n",
        "parser.add_argument('--concat', type=bool, default=True, help='whether concat news embedding and graph embedding')\n",
        "parser.add_argument('--multi_gpu', type=bool, default=False, help='multi-gpu mode')\n",
        "parser.add_argument('--feature', type=str, default='bert', help='feature type, [profile, spacy, bert, content]')\n",
        "parser.add_argument('--model', type=str, default='sage', help='model type, [gcn, gat, sage]')\n",
        "parser.add_argument('--eval', type = str, default = 'accuracy', help = 'evaluation type')\n",
        "parser.add_argument('--num_layers', type=str, default = 2, help = 'num of GNN layers')\n",
        "\n",
        "args, _ = parser.parse_known_args()\n",
        "torch.manual_seed(args.seed)\n",
        "if torch.cuda.is_available():\n",
        "\ttorch.cuda.manual_seed(args.seed)\n",
        "\n",
        "args.num_classes = train_data.num_classes\n",
        "args.num_features = train_data.num_features\n",
        "\n",
        "model = GCN(args)\n",
        "model = model.to(args.device)"
      ],
      "metadata": {
        "id": "JL_PzguVVlKU"
      },
      "execution_count": null,
      "outputs": []
    },
    {
      "cell_type": "code",
      "source": [
        "#if __name__ == '__main__':\n",
        "model.reset_parameters()\n",
        "\n",
        "best_model = None\n",
        "best_val_value = 0\n",
        "\n",
        "evaluator = args.eval\n",
        "\n",
        "optimizer = torch.optim.Adam(model.parameters(), lr=args.lr, weight_decay = args.weight_decay)\n",
        "loss_fn = F.nll_loss\n",
        "\n",
        "model.train()\n",
        "for epoch in tqdm(range(1, args.epochs)):\n",
        "  loss = train(model, train_loader, optimizer, loss_fn)\n",
        "  train_eval = evaluate(model, train_loader)\n",
        "  val_eval = evaluate(model, val_loader)\n",
        "  if val_eval[0] > best_val_value:\n",
        "    best_val_value = val_eval[0]\n",
        "    best_model = copy.deepcopy(model)      \n",
        "  print(f'loss_train:{loss:.4f}, train_{evaluator}:{train_eval[0]:.4f}, val_{evaluator}:{val_eval[0]:.4f} ')\n",
        "acc, f1, auc = evaluate(best_model, test_loader)\n",
        "print(f'Test results: acc {acc:.4f}, f1 score: {f1:.4f}, auc: {auc:.4f}' )"
      ],
      "metadata": {
        "id": "Uv70cooqVcJ9",
        "colab": {
          "base_uri": "https://localhost:8080/"
        },
        "outputId": "450a9d35-fc5d-431c-e8a3-c49ff81854d8"
      },
      "execution_count": null,
      "outputs": [
        {
          "output_type": "stream",
          "name": "stderr",
          "text": [
            "  1%|          | 1/99 [00:00<00:26,  3.64it/s]"
          ]
        },
        {
          "output_type": "stream",
          "name": "stdout",
          "text": [
            "loss_train:0.7377, train_accuracy:0.5806, val_accuracy:0.4194 \n"
          ]
        },
        {
          "output_type": "stream",
          "name": "stderr",
          "text": [
            "\r  2%|▏         | 2/99 [00:00<00:26,  3.65it/s]"
          ]
        },
        {
          "output_type": "stream",
          "name": "stdout",
          "text": [
            "loss_train:2.7296, train_accuracy:0.7419, val_accuracy:0.8065 \n"
          ]
        },
        {
          "output_type": "stream",
          "name": "stderr",
          "text": [
            "\r  3%|▎         | 3/99 [00:00<00:24,  3.84it/s]"
          ]
        },
        {
          "output_type": "stream",
          "name": "stdout",
          "text": [
            "loss_train:0.6723, train_accuracy:0.4194, val_accuracy:0.5806 \n"
          ]
        },
        {
          "output_type": "stream",
          "name": "stderr",
          "text": [
            "\r  4%|▍         | 4/99 [00:01<00:24,  3.92it/s]"
          ]
        },
        {
          "output_type": "stream",
          "name": "stdout",
          "text": [
            "loss_train:0.7577, train_accuracy:0.5806, val_accuracy:0.4194 \n"
          ]
        },
        {
          "output_type": "stream",
          "name": "stderr",
          "text": [
            "\r  5%|▌         | 5/99 [00:01<00:23,  3.94it/s]"
          ]
        },
        {
          "output_type": "stream",
          "name": "stdout",
          "text": [
            "loss_train:0.6781, train_accuracy:0.5806, val_accuracy:0.4194 \n"
          ]
        },
        {
          "output_type": "stream",
          "name": "stderr",
          "text": [
            "\r  6%|▌         | 6/99 [00:01<00:23,  3.92it/s]"
          ]
        },
        {
          "output_type": "stream",
          "name": "stdout",
          "text": [
            "loss_train:0.7401, train_accuracy:0.5806, val_accuracy:0.4194 \n"
          ]
        },
        {
          "output_type": "stream",
          "name": "stderr",
          "text": [
            "\r  7%|▋         | 7/99 [00:01<00:23,  3.93it/s]"
          ]
        },
        {
          "output_type": "stream",
          "name": "stdout",
          "text": [
            "loss_train:0.6846, train_accuracy:0.5806, val_accuracy:0.4194 \n"
          ]
        },
        {
          "output_type": "stream",
          "name": "stderr",
          "text": [
            "\r  8%|▊         | 8/99 [00:02<00:23,  3.84it/s]"
          ]
        },
        {
          "output_type": "stream",
          "name": "stdout",
          "text": [
            "loss_train:0.6814, train_accuracy:0.5161, val_accuracy:0.6452 \n"
          ]
        },
        {
          "output_type": "stream",
          "name": "stderr",
          "text": [
            "\r  9%|▉         | 9/99 [00:02<00:22,  3.92it/s]"
          ]
        },
        {
          "output_type": "stream",
          "name": "stdout",
          "text": [
            "loss_train:0.6902, train_accuracy:0.5806, val_accuracy:0.4194 \n"
          ]
        },
        {
          "output_type": "stream",
          "name": "stderr",
          "text": [
            "\r 10%|█         | 10/99 [00:02<00:22,  3.89it/s]"
          ]
        },
        {
          "output_type": "stream",
          "name": "stdout",
          "text": [
            "loss_train:0.6781, train_accuracy:0.5806, val_accuracy:0.4194 \n"
          ]
        },
        {
          "output_type": "stream",
          "name": "stderr",
          "text": [
            "\r 11%|█         | 11/99 [00:02<00:22,  3.94it/s]"
          ]
        },
        {
          "output_type": "stream",
          "name": "stdout",
          "text": [
            "loss_train:0.6713, train_accuracy:0.5806, val_accuracy:0.4194 \n"
          ]
        },
        {
          "output_type": "stream",
          "name": "stderr",
          "text": [
            "\r 12%|█▏        | 12/99 [00:03<00:21,  3.97it/s]"
          ]
        },
        {
          "output_type": "stream",
          "name": "stdout",
          "text": [
            "loss_train:0.6752, train_accuracy:0.5806, val_accuracy:0.4194 \n"
          ]
        },
        {
          "output_type": "stream",
          "name": "stderr",
          "text": [
            "\r 13%|█▎        | 13/99 [00:03<00:21,  3.98it/s]"
          ]
        },
        {
          "output_type": "stream",
          "name": "stdout",
          "text": [
            "loss_train:0.6661, train_accuracy:0.5806, val_accuracy:0.4194 \n"
          ]
        },
        {
          "output_type": "stream",
          "name": "stderr",
          "text": [
            "\r 14%|█▍        | 14/99 [00:03<00:22,  3.78it/s]"
          ]
        },
        {
          "output_type": "stream",
          "name": "stdout",
          "text": [
            "loss_train:0.6651, train_accuracy:0.5806, val_accuracy:0.4194 \n"
          ]
        },
        {
          "output_type": "stream",
          "name": "stderr",
          "text": [
            "\r 15%|█▌        | 15/99 [00:03<00:24,  3.47it/s]"
          ]
        },
        {
          "output_type": "stream",
          "name": "stdout",
          "text": [
            "loss_train:0.6630, train_accuracy:0.5806, val_accuracy:0.4194 \n"
          ]
        },
        {
          "output_type": "stream",
          "name": "stderr",
          "text": [
            "\r 16%|█▌        | 16/99 [00:04<00:22,  3.64it/s]"
          ]
        },
        {
          "output_type": "stream",
          "name": "stdout",
          "text": [
            "loss_train:0.6562, train_accuracy:0.5806, val_accuracy:0.4194 \n"
          ]
        },
        {
          "output_type": "stream",
          "name": "stderr",
          "text": [
            "\r 17%|█▋        | 17/99 [00:04<00:22,  3.73it/s]"
          ]
        },
        {
          "output_type": "stream",
          "name": "stdout",
          "text": [
            "loss_train:0.6516, train_accuracy:0.5806, val_accuracy:0.4194 \n"
          ]
        },
        {
          "output_type": "stream",
          "name": "stderr",
          "text": [
            "\r 18%|█▊        | 18/99 [00:04<00:21,  3.74it/s]"
          ]
        },
        {
          "output_type": "stream",
          "name": "stdout",
          "text": [
            "loss_train:0.6456, train_accuracy:0.5806, val_accuracy:0.4194 \n"
          ]
        },
        {
          "output_type": "stream",
          "name": "stderr",
          "text": [
            "\r 19%|█▉        | 19/99 [00:04<00:20,  3.84it/s]"
          ]
        },
        {
          "output_type": "stream",
          "name": "stdout",
          "text": [
            "loss_train:0.6361, train_accuracy:0.5968, val_accuracy:0.4516 \n"
          ]
        },
        {
          "output_type": "stream",
          "name": "stderr",
          "text": [
            "\r 20%|██        | 20/99 [00:05<00:20,  3.91it/s]"
          ]
        },
        {
          "output_type": "stream",
          "name": "stdout",
          "text": [
            "loss_train:0.6291, train_accuracy:0.5806, val_accuracy:0.4194 \n"
          ]
        },
        {
          "output_type": "stream",
          "name": "stderr",
          "text": [
            "\r 21%|██        | 21/99 [00:05<00:20,  3.86it/s]"
          ]
        },
        {
          "output_type": "stream",
          "name": "stdout",
          "text": [
            "loss_train:0.6156, train_accuracy:0.5806, val_accuracy:0.4194 \n"
          ]
        },
        {
          "output_type": "stream",
          "name": "stderr",
          "text": [
            "\r 22%|██▏       | 22/99 [00:05<00:19,  3.95it/s]"
          ]
        },
        {
          "output_type": "stream",
          "name": "stdout",
          "text": [
            "loss_train:0.6043, train_accuracy:0.7903, val_accuracy:0.6452 \n"
          ]
        },
        {
          "output_type": "stream",
          "name": "stderr",
          "text": [
            "\r 23%|██▎       | 23/99 [00:05<00:19,  3.97it/s]"
          ]
        },
        {
          "output_type": "stream",
          "name": "stdout",
          "text": [
            "loss_train:0.5865, train_accuracy:0.8548, val_accuracy:0.8065 \n"
          ]
        },
        {
          "output_type": "stream",
          "name": "stderr",
          "text": [
            "\r 24%|██▍       | 24/99 [00:06<00:18,  3.98it/s]"
          ]
        },
        {
          "output_type": "stream",
          "name": "stdout",
          "text": [
            "loss_train:0.5721, train_accuracy:0.5806, val_accuracy:0.4194 \n"
          ]
        },
        {
          "output_type": "stream",
          "name": "stderr",
          "text": [
            "\r 25%|██▌       | 25/99 [00:06<00:18,  3.98it/s]"
          ]
        },
        {
          "output_type": "stream",
          "name": "stdout",
          "text": [
            "loss_train:0.5638, train_accuracy:0.7258, val_accuracy:0.7742 \n"
          ]
        },
        {
          "output_type": "stream",
          "name": "stderr",
          "text": [
            "\r 26%|██▋       | 26/99 [00:06<00:18,  4.00it/s]"
          ]
        },
        {
          "output_type": "stream",
          "name": "stdout",
          "text": [
            "loss_train:0.5609, train_accuracy:0.7903, val_accuracy:0.5806 \n"
          ]
        },
        {
          "output_type": "stream",
          "name": "stderr",
          "text": [
            "\r 27%|██▋       | 27/99 [00:06<00:17,  4.03it/s]"
          ]
        },
        {
          "output_type": "stream",
          "name": "stdout",
          "text": [
            "loss_train:0.5171, train_accuracy:0.8710, val_accuracy:0.7097 \n"
          ]
        },
        {
          "output_type": "stream",
          "name": "stderr",
          "text": [
            "\r 28%|██▊       | 28/99 [00:07<00:17,  4.01it/s]"
          ]
        },
        {
          "output_type": "stream",
          "name": "stdout",
          "text": [
            "loss_train:0.4879, train_accuracy:0.7581, val_accuracy:0.8065 \n"
          ]
        },
        {
          "output_type": "stream",
          "name": "stderr",
          "text": [
            "\r 29%|██▉       | 29/99 [00:07<00:17,  3.99it/s]"
          ]
        },
        {
          "output_type": "stream",
          "name": "stdout",
          "text": [
            "loss_train:0.5004, train_accuracy:0.6290, val_accuracy:0.4516 \n"
          ]
        },
        {
          "output_type": "stream",
          "name": "stderr",
          "text": [
            "\r 30%|███       | 30/99 [00:07<00:17,  3.97it/s]"
          ]
        },
        {
          "output_type": "stream",
          "name": "stdout",
          "text": [
            "loss_train:0.5272, train_accuracy:0.8065, val_accuracy:0.7742 \n"
          ]
        },
        {
          "output_type": "stream",
          "name": "stderr",
          "text": [
            "\r 31%|███▏      | 31/99 [00:07<00:16,  4.02it/s]"
          ]
        },
        {
          "output_type": "stream",
          "name": "stdout",
          "text": [
            "loss_train:0.4443, train_accuracy:0.8226, val_accuracy:0.7742 \n"
          ]
        },
        {
          "output_type": "stream",
          "name": "stderr",
          "text": [
            "\r 32%|███▏      | 32/99 [00:08<00:16,  4.00it/s]"
          ]
        },
        {
          "output_type": "stream",
          "name": "stdout",
          "text": [
            "loss_train:0.4201, train_accuracy:0.6774, val_accuracy:0.4516 \n"
          ]
        },
        {
          "output_type": "stream",
          "name": "stderr",
          "text": [
            "\r 33%|███▎      | 33/99 [00:08<00:16,  4.02it/s]"
          ]
        },
        {
          "output_type": "stream",
          "name": "stdout",
          "text": [
            "loss_train:0.4825, train_accuracy:0.8226, val_accuracy:0.7742 \n"
          ]
        },
        {
          "output_type": "stream",
          "name": "stderr",
          "text": [
            "\r 34%|███▍      | 34/99 [00:08<00:16,  3.98it/s]"
          ]
        },
        {
          "output_type": "stream",
          "name": "stdout",
          "text": [
            "loss_train:0.4255, train_accuracy:0.8548, val_accuracy:0.8065 \n"
          ]
        },
        {
          "output_type": "stream",
          "name": "stderr",
          "text": [
            "\r 35%|███▌      | 35/99 [00:08<00:15,  4.01it/s]"
          ]
        },
        {
          "output_type": "stream",
          "name": "stdout",
          "text": [
            "loss_train:0.3620, train_accuracy:0.7903, val_accuracy:0.4839 \n"
          ]
        },
        {
          "output_type": "stream",
          "name": "stderr",
          "text": [
            "\r 36%|███▋      | 36/99 [00:09<00:15,  4.01it/s]"
          ]
        },
        {
          "output_type": "stream",
          "name": "stdout",
          "text": [
            "loss_train:0.4297, train_accuracy:0.8548, val_accuracy:0.7742 \n"
          ]
        },
        {
          "output_type": "stream",
          "name": "stderr",
          "text": [
            "\r 37%|███▋      | 37/99 [00:09<00:15,  4.00it/s]"
          ]
        },
        {
          "output_type": "stream",
          "name": "stdout",
          "text": [
            "loss_train:0.3736, train_accuracy:0.8710, val_accuracy:0.8065 \n"
          ]
        },
        {
          "output_type": "stream",
          "name": "stderr",
          "text": [
            "\r 38%|███▊      | 38/99 [00:09<00:15,  3.97it/s]"
          ]
        },
        {
          "output_type": "stream",
          "name": "stdout",
          "text": [
            "loss_train:0.3221, train_accuracy:0.8226, val_accuracy:0.6452 \n"
          ]
        },
        {
          "output_type": "stream",
          "name": "stderr",
          "text": [
            "\r 39%|███▉      | 39/99 [00:10<00:16,  3.62it/s]"
          ]
        },
        {
          "output_type": "stream",
          "name": "stdout",
          "text": [
            "loss_train:0.3813, train_accuracy:0.8548, val_accuracy:0.7742 \n"
          ]
        },
        {
          "output_type": "stream",
          "name": "stderr",
          "text": [
            "\r 40%|████      | 40/99 [00:10<00:18,  3.27it/s]"
          ]
        },
        {
          "output_type": "stream",
          "name": "stdout",
          "text": [
            "loss_train:0.3318, train_accuracy:0.9032, val_accuracy:0.8065 \n"
          ]
        },
        {
          "output_type": "stream",
          "name": "stderr",
          "text": [
            "\r 41%|████▏     | 41/99 [00:10<00:19,  3.01it/s]"
          ]
        },
        {
          "output_type": "stream",
          "name": "stdout",
          "text": [
            "loss_train:0.2812, train_accuracy:0.8548, val_accuracy:0.6774 \n"
          ]
        },
        {
          "output_type": "stream",
          "name": "stderr",
          "text": [
            "\r 42%|████▏     | 42/99 [00:11<00:20,  2.83it/s]"
          ]
        },
        {
          "output_type": "stream",
          "name": "stdout",
          "text": [
            "loss_train:0.3298, train_accuracy:0.8548, val_accuracy:0.8065 \n"
          ]
        },
        {
          "output_type": "stream",
          "name": "stderr",
          "text": [
            "\r 43%|████▎     | 43/99 [00:11<00:20,  2.72it/s]"
          ]
        },
        {
          "output_type": "stream",
          "name": "stdout",
          "text": [
            "loss_train:0.3197, train_accuracy:0.9516, val_accuracy:0.8065 \n"
          ]
        },
        {
          "output_type": "stream",
          "name": "stderr",
          "text": [
            "\r 44%|████▍     | 44/99 [00:12<00:20,  2.70it/s]"
          ]
        },
        {
          "output_type": "stream",
          "name": "stdout",
          "text": [
            "loss_train:0.2533, train_accuracy:0.9032, val_accuracy:0.8065 \n"
          ]
        },
        {
          "output_type": "stream",
          "name": "stderr",
          "text": [
            "\r 45%|████▌     | 45/99 [00:12<00:20,  2.63it/s]"
          ]
        },
        {
          "output_type": "stream",
          "name": "stdout",
          "text": [
            "loss_train:0.2539, train_accuracy:0.8710, val_accuracy:0.8065 \n"
          ]
        },
        {
          "output_type": "stream",
          "name": "stderr",
          "text": [
            "\r 46%|████▋     | 46/99 [00:12<00:20,  2.62it/s]"
          ]
        },
        {
          "output_type": "stream",
          "name": "stdout",
          "text": [
            "loss_train:0.2972, train_accuracy:0.8871, val_accuracy:0.6774 \n"
          ]
        },
        {
          "output_type": "stream",
          "name": "stderr",
          "text": [
            "\r 47%|████▋     | 47/99 [00:13<00:19,  2.63it/s]"
          ]
        },
        {
          "output_type": "stream",
          "name": "stdout",
          "text": [
            "loss_train:0.2917, train_accuracy:0.8871, val_accuracy:0.8065 \n"
          ]
        },
        {
          "output_type": "stream",
          "name": "stderr",
          "text": [
            "\r 48%|████▊     | 48/99 [00:13<00:19,  2.64it/s]"
          ]
        },
        {
          "output_type": "stream",
          "name": "stdout",
          "text": [
            "loss_train:0.2235, train_accuracy:0.9194, val_accuracy:0.8065 \n"
          ]
        },
        {
          "output_type": "stream",
          "name": "stderr",
          "text": [
            "\r 49%|████▉     | 49/99 [00:13<00:18,  2.64it/s]"
          ]
        },
        {
          "output_type": "stream",
          "name": "stdout",
          "text": [
            "loss_train:0.2099, train_accuracy:0.9032, val_accuracy:0.6774 \n"
          ]
        },
        {
          "output_type": "stream",
          "name": "stderr",
          "text": [
            "\r 51%|█████     | 50/99 [00:14<00:17,  2.83it/s]"
          ]
        },
        {
          "output_type": "stream",
          "name": "stdout",
          "text": [
            "loss_train:0.2536, train_accuracy:0.8710, val_accuracy:0.8065 \n"
          ]
        },
        {
          "output_type": "stream",
          "name": "stderr",
          "text": [
            "\r 52%|█████▏    | 51/99 [00:14<00:15,  3.09it/s]"
          ]
        },
        {
          "output_type": "stream",
          "name": "stdout",
          "text": [
            "loss_train:0.2698, train_accuracy:0.9032, val_accuracy:0.7097 \n"
          ]
        },
        {
          "output_type": "stream",
          "name": "stderr",
          "text": [
            "\r 53%|█████▎    | 52/99 [00:14<00:14,  3.27it/s]"
          ]
        },
        {
          "output_type": "stream",
          "name": "stdout",
          "text": [
            "loss_train:0.2326, train_accuracy:0.9677, val_accuracy:0.8387 \n"
          ]
        },
        {
          "output_type": "stream",
          "name": "stderr",
          "text": [
            "\r 54%|█████▎    | 53/99 [00:14<00:13,  3.42it/s]"
          ]
        },
        {
          "output_type": "stream",
          "name": "stdout",
          "text": [
            "loss_train:0.1780, train_accuracy:0.9194, val_accuracy:0.8387 \n"
          ]
        },
        {
          "output_type": "stream",
          "name": "stderr",
          "text": [
            "\r 55%|█████▍    | 54/99 [00:15<00:12,  3.58it/s]"
          ]
        },
        {
          "output_type": "stream",
          "name": "stdout",
          "text": [
            "loss_train:0.1859, train_accuracy:0.9032, val_accuracy:0.6774 \n"
          ]
        },
        {
          "output_type": "stream",
          "name": "stderr",
          "text": [
            "\r 56%|█████▌    | 55/99 [00:15<00:11,  3.68it/s]"
          ]
        },
        {
          "output_type": "stream",
          "name": "stdout",
          "text": [
            "loss_train:0.2302, train_accuracy:0.8871, val_accuracy:0.8065 \n"
          ]
        },
        {
          "output_type": "stream",
          "name": "stderr",
          "text": [
            "\r 57%|█████▋    | 56/99 [00:15<00:11,  3.76it/s]"
          ]
        },
        {
          "output_type": "stream",
          "name": "stdout",
          "text": [
            "loss_train:0.2359, train_accuracy:0.9032, val_accuracy:0.7419 \n"
          ]
        },
        {
          "output_type": "stream",
          "name": "stderr",
          "text": [
            "\r 58%|█████▊    | 57/99 [00:16<00:10,  3.83it/s]"
          ]
        },
        {
          "output_type": "stream",
          "name": "stdout",
          "text": [
            "loss_train:0.1969, train_accuracy:0.9839, val_accuracy:0.8387 \n"
          ]
        },
        {
          "output_type": "stream",
          "name": "stderr",
          "text": [
            "\r 59%|█████▊    | 58/99 [00:16<00:10,  3.82it/s]"
          ]
        },
        {
          "output_type": "stream",
          "name": "stdout",
          "text": [
            "loss_train:0.1513, train_accuracy:0.9516, val_accuracy:0.8710 \n"
          ]
        },
        {
          "output_type": "stream",
          "name": "stderr",
          "text": [
            "\r 60%|█████▉    | 59/99 [00:16<00:10,  3.87it/s]"
          ]
        },
        {
          "output_type": "stream",
          "name": "stdout",
          "text": [
            "loss_train:0.1604, train_accuracy:0.9032, val_accuracy:0.7097 \n"
          ]
        },
        {
          "output_type": "stream",
          "name": "stderr",
          "text": [
            "\r 61%|██████    | 60/99 [00:16<00:10,  3.87it/s]"
          ]
        },
        {
          "output_type": "stream",
          "name": "stdout",
          "text": [
            "loss_train:0.1988, train_accuracy:0.9032, val_accuracy:0.8387 \n"
          ]
        },
        {
          "output_type": "stream",
          "name": "stderr",
          "text": [
            "\r 62%|██████▏   | 61/99 [00:17<00:09,  3.92it/s]"
          ]
        },
        {
          "output_type": "stream",
          "name": "stdout",
          "text": [
            "loss_train:0.2063, train_accuracy:0.9032, val_accuracy:0.7419 \n"
          ]
        },
        {
          "output_type": "stream",
          "name": "stderr",
          "text": [
            "\r 63%|██████▎   | 62/99 [00:17<00:09,  3.93it/s]"
          ]
        },
        {
          "output_type": "stream",
          "name": "stdout",
          "text": [
            "loss_train:0.1783, train_accuracy:0.9839, val_accuracy:0.8387 \n"
          ]
        },
        {
          "output_type": "stream",
          "name": "stderr",
          "text": [
            "\r 64%|██████▎   | 63/99 [00:17<00:09,  3.90it/s]"
          ]
        },
        {
          "output_type": "stream",
          "name": "stdout",
          "text": [
            "loss_train:0.1357, train_accuracy:0.9839, val_accuracy:0.8387 \n"
          ]
        },
        {
          "output_type": "stream",
          "name": "stderr",
          "text": [
            "\r 65%|██████▍   | 64/99 [00:17<00:09,  3.89it/s]"
          ]
        },
        {
          "output_type": "stream",
          "name": "stdout",
          "text": [
            "loss_train:0.1342, train_accuracy:0.9355, val_accuracy:0.7419 \n"
          ]
        },
        {
          "output_type": "stream",
          "name": "stderr",
          "text": [
            "\r 66%|██████▌   | 65/99 [00:18<00:08,  3.91it/s]"
          ]
        },
        {
          "output_type": "stream",
          "name": "stdout",
          "text": [
            "loss_train:0.1636, train_accuracy:0.9194, val_accuracy:0.8387 \n"
          ]
        },
        {
          "output_type": "stream",
          "name": "stderr",
          "text": [
            "\r 67%|██████▋   | 66/99 [00:18<00:08,  3.91it/s]"
          ]
        },
        {
          "output_type": "stream",
          "name": "stdout",
          "text": [
            "loss_train:0.1782, train_accuracy:0.9194, val_accuracy:0.7419 \n"
          ]
        },
        {
          "output_type": "stream",
          "name": "stderr",
          "text": [
            "\r 68%|██████▊   | 67/99 [00:18<00:08,  3.94it/s]"
          ]
        },
        {
          "output_type": "stream",
          "name": "stdout",
          "text": [
            "loss_train:0.1688, train_accuracy:0.9516, val_accuracy:0.8710 \n"
          ]
        },
        {
          "output_type": "stream",
          "name": "stderr",
          "text": [
            "\r 69%|██████▊   | 68/99 [00:18<00:07,  3.97it/s]"
          ]
        },
        {
          "output_type": "stream",
          "name": "stdout",
          "text": [
            "loss_train:0.1327, train_accuracy:0.9839, val_accuracy:0.8710 \n"
          ]
        },
        {
          "output_type": "stream",
          "name": "stderr",
          "text": [
            "\r 70%|██████▉   | 69/99 [00:19<00:07,  3.96it/s]"
          ]
        },
        {
          "output_type": "stream",
          "name": "stdout",
          "text": [
            "loss_train:0.1143, train_accuracy:0.9839, val_accuracy:0.8710 \n"
          ]
        },
        {
          "output_type": "stream",
          "name": "stderr",
          "text": [
            "\r 71%|███████   | 70/99 [00:19<00:07,  3.97it/s]"
          ]
        },
        {
          "output_type": "stream",
          "name": "stdout",
          "text": [
            "loss_train:0.1266, train_accuracy:0.9194, val_accuracy:0.8387 \n"
          ]
        },
        {
          "output_type": "stream",
          "name": "stderr",
          "text": [
            "\r 72%|███████▏  | 71/99 [00:19<00:07,  3.99it/s]"
          ]
        },
        {
          "output_type": "stream",
          "name": "stdout",
          "text": [
            "loss_train:0.1455, train_accuracy:0.9516, val_accuracy:0.7419 \n"
          ]
        },
        {
          "output_type": "stream",
          "name": "stderr",
          "text": [
            "\r 73%|███████▎  | 72/99 [00:19<00:06,  3.92it/s]"
          ]
        },
        {
          "output_type": "stream",
          "name": "stdout",
          "text": [
            "loss_train:0.1558, train_accuracy:0.9194, val_accuracy:0.8387 \n"
          ]
        },
        {
          "output_type": "stream",
          "name": "stderr",
          "text": [
            "\r 74%|███████▎  | 73/99 [00:20<00:06,  3.93it/s]"
          ]
        },
        {
          "output_type": "stream",
          "name": "stdout",
          "text": [
            "loss_train:0.1409, train_accuracy:0.9839, val_accuracy:0.8387 \n"
          ]
        },
        {
          "output_type": "stream",
          "name": "stderr",
          "text": [
            "\r 75%|███████▍  | 74/99 [00:20<00:06,  3.96it/s]"
          ]
        },
        {
          "output_type": "stream",
          "name": "stdout",
          "text": [
            "loss_train:0.1193, train_accuracy:0.9839, val_accuracy:0.8710 \n"
          ]
        },
        {
          "output_type": "stream",
          "name": "stderr",
          "text": [
            "\r 76%|███████▌  | 75/99 [00:20<00:06,  3.97it/s]"
          ]
        },
        {
          "output_type": "stream",
          "name": "stdout",
          "text": [
            "loss_train:0.1031, train_accuracy:0.9839, val_accuracy:0.8710 \n"
          ]
        },
        {
          "output_type": "stream",
          "name": "stderr",
          "text": [
            "\r 77%|███████▋  | 76/99 [00:20<00:05,  3.99it/s]"
          ]
        },
        {
          "output_type": "stream",
          "name": "stdout",
          "text": [
            "loss_train:0.1067, train_accuracy:0.9839, val_accuracy:0.8065 \n"
          ]
        },
        {
          "output_type": "stream",
          "name": "stderr",
          "text": [
            "\r 78%|███████▊  | 77/99 [00:21<00:05,  3.98it/s]"
          ]
        },
        {
          "output_type": "stream",
          "name": "stdout",
          "text": [
            "loss_train:0.1216, train_accuracy:0.9194, val_accuracy:0.8387 \n"
          ]
        },
        {
          "output_type": "stream",
          "name": "stderr",
          "text": [
            "\r 79%|███████▉  | 78/99 [00:21<00:05,  4.00it/s]"
          ]
        },
        {
          "output_type": "stream",
          "name": "stdout",
          "text": [
            "loss_train:0.1326, train_accuracy:0.9516, val_accuracy:0.7419 \n"
          ]
        },
        {
          "output_type": "stream",
          "name": "stderr",
          "text": [
            "\r 80%|███████▉  | 79/99 [00:21<00:05,  3.98it/s]"
          ]
        },
        {
          "output_type": "stream",
          "name": "stdout",
          "text": [
            "loss_train:0.1433, train_accuracy:0.9355, val_accuracy:0.8387 \n"
          ]
        },
        {
          "output_type": "stream",
          "name": "stderr",
          "text": [
            "\r 81%|████████  | 80/99 [00:21<00:04,  4.01it/s]"
          ]
        },
        {
          "output_type": "stream",
          "name": "stdout",
          "text": [
            "loss_train:0.1396, train_accuracy:0.9516, val_accuracy:0.7419 \n"
          ]
        },
        {
          "output_type": "stream",
          "name": "stderr",
          "text": [
            "\r 82%|████████▏ | 81/99 [00:22<00:04,  3.98it/s]"
          ]
        },
        {
          "output_type": "stream",
          "name": "stdout",
          "text": [
            "loss_train:0.1353, train_accuracy:0.9516, val_accuracy:0.8710 \n"
          ]
        },
        {
          "output_type": "stream",
          "name": "stderr",
          "text": [
            "\r 83%|████████▎ | 82/99 [00:22<00:04,  3.88it/s]"
          ]
        },
        {
          "output_type": "stream",
          "name": "stdout",
          "text": [
            "loss_train:0.1160, train_accuracy:0.9839, val_accuracy:0.8710 \n"
          ]
        },
        {
          "output_type": "stream",
          "name": "stderr",
          "text": [
            "\r 84%|████████▍ | 83/99 [00:22<00:04,  3.81it/s]"
          ]
        },
        {
          "output_type": "stream",
          "name": "stdout",
          "text": [
            "loss_train:0.0990, train_accuracy:0.9839, val_accuracy:0.8710 \n"
          ]
        },
        {
          "output_type": "stream",
          "name": "stderr",
          "text": [
            "\r 85%|████████▍ | 84/99 [00:22<00:03,  3.82it/s]"
          ]
        },
        {
          "output_type": "stream",
          "name": "stdout",
          "text": [
            "loss_train:0.0899, train_accuracy:0.9839, val_accuracy:0.8710 \n"
          ]
        },
        {
          "output_type": "stream",
          "name": "stderr",
          "text": [
            "\r 86%|████████▌ | 85/99 [00:23<00:03,  3.85it/s]"
          ]
        },
        {
          "output_type": "stream",
          "name": "stdout",
          "text": [
            "loss_train:0.0944, train_accuracy:0.9839, val_accuracy:0.8065 \n"
          ]
        },
        {
          "output_type": "stream",
          "name": "stderr",
          "text": [
            "\r 87%|████████▋ | 86/99 [00:23<00:03,  3.87it/s]"
          ]
        },
        {
          "output_type": "stream",
          "name": "stdout",
          "text": [
            "loss_train:0.1061, train_accuracy:0.9677, val_accuracy:0.8710 \n"
          ]
        },
        {
          "output_type": "stream",
          "name": "stderr",
          "text": [
            "\r 88%|████████▊ | 87/99 [00:23<00:03,  3.90it/s]"
          ]
        },
        {
          "output_type": "stream",
          "name": "stdout",
          "text": [
            "loss_train:0.1150, train_accuracy:0.9516, val_accuracy:0.7097 \n"
          ]
        },
        {
          "output_type": "stream",
          "name": "stderr",
          "text": [
            "\r 89%|████████▉ | 88/99 [00:23<00:02,  3.89it/s]"
          ]
        },
        {
          "output_type": "stream",
          "name": "stdout",
          "text": [
            "loss_train:0.1287, train_accuracy:0.9355, val_accuracy:0.8387 \n"
          ]
        },
        {
          "output_type": "stream",
          "name": "stderr",
          "text": [
            "\r 90%|████████▉ | 89/99 [00:24<00:02,  3.74it/s]"
          ]
        },
        {
          "output_type": "stream",
          "name": "stdout",
          "text": [
            "loss_train:0.1354, train_accuracy:0.9355, val_accuracy:0.6452 \n"
          ]
        },
        {
          "output_type": "stream",
          "name": "stderr",
          "text": [
            "\r 91%|█████████ | 90/99 [00:24<00:02,  3.33it/s]"
          ]
        },
        {
          "output_type": "stream",
          "name": "stdout",
          "text": [
            "loss_train:0.1584, train_accuracy:0.9194, val_accuracy:0.8387 \n"
          ]
        },
        {
          "output_type": "stream",
          "name": "stderr",
          "text": [
            "\r 92%|█████████▏| 91/99 [00:24<00:02,  3.04it/s]"
          ]
        },
        {
          "output_type": "stream",
          "name": "stdout",
          "text": [
            "loss_train:0.1728, train_accuracy:0.8871, val_accuracy:0.6129 \n"
          ]
        },
        {
          "output_type": "stream",
          "name": "stderr",
          "text": [
            "\r 93%|█████████▎| 92/99 [00:25<00:02,  2.91it/s]"
          ]
        },
        {
          "output_type": "stream",
          "name": "stdout",
          "text": [
            "loss_train:0.2189, train_accuracy:0.8710, val_accuracy:0.8387 \n"
          ]
        },
        {
          "output_type": "stream",
          "name": "stderr",
          "text": [
            "\r 94%|█████████▍| 93/99 [00:25<00:02,  2.84it/s]"
          ]
        },
        {
          "output_type": "stream",
          "name": "stdout",
          "text": [
            "loss_train:0.2308, train_accuracy:0.8871, val_accuracy:0.6129 \n"
          ]
        },
        {
          "output_type": "stream",
          "name": "stderr",
          "text": [
            "\r 95%|█████████▍| 94/99 [00:26<00:01,  2.75it/s]"
          ]
        },
        {
          "output_type": "stream",
          "name": "stdout",
          "text": [
            "loss_train:0.2380, train_accuracy:0.9355, val_accuracy:0.8387 \n"
          ]
        },
        {
          "output_type": "stream",
          "name": "stderr",
          "text": [
            "\r 96%|█████████▌| 95/99 [00:26<00:01,  2.73it/s]"
          ]
        },
        {
          "output_type": "stream",
          "name": "stdout",
          "text": [
            "loss_train:0.1306, train_accuracy:0.9839, val_accuracy:0.8710 \n"
          ]
        },
        {
          "output_type": "stream",
          "name": "stderr",
          "text": [
            "\r 97%|█████████▋| 96/99 [00:26<00:01,  2.70it/s]"
          ]
        },
        {
          "output_type": "stream",
          "name": "stdout",
          "text": [
            "loss_train:0.0830, train_accuracy:0.9516, val_accuracy:0.7097 \n"
          ]
        },
        {
          "output_type": "stream",
          "name": "stderr",
          "text": [
            "\r 98%|█████████▊| 97/99 [00:27<00:00,  2.69it/s]"
          ]
        },
        {
          "output_type": "stream",
          "name": "stdout",
          "text": [
            "loss_train:0.1414, train_accuracy:0.9516, val_accuracy:0.8710 \n"
          ]
        },
        {
          "output_type": "stream",
          "name": "stderr",
          "text": [
            "\r 99%|█████████▉| 98/99 [00:27<00:00,  2.69it/s]"
          ]
        },
        {
          "output_type": "stream",
          "name": "stdout",
          "text": [
            "loss_train:0.1151, train_accuracy:0.9839, val_accuracy:0.8710 \n"
          ]
        },
        {
          "output_type": "stream",
          "name": "stderr",
          "text": [
            "100%|██████████| 99/99 [00:27<00:00,  3.54it/s]"
          ]
        },
        {
          "output_type": "stream",
          "name": "stdout",
          "text": [
            "loss_train:0.0783, train_accuracy:0.9677, val_accuracy:0.7742 \n"
          ]
        },
        {
          "output_type": "stream",
          "name": "stderr",
          "text": [
            "\n"
          ]
        },
        {
          "output_type": "stream",
          "name": "stdout",
          "text": [
            "Test results: acc 0.8281, f1 score: 0.8273, auc: 0.8286\n"
          ]
        }
      ]
    },
    {
      "cell_type": "markdown",
      "source": [
        "## Generate Visual Representation"
      ],
      "metadata": {
        "id": "ThQjrreFEPSk"
      }
    },
    {
      "cell_type": "code",
      "source": [
        "new_test_loader = test_loader = DataLoader(test_data, batch_size=500, shuffle=False)"
      ],
      "metadata": {
        "id": "xfqYVOuBwHce"
      },
      "execution_count": null,
      "outputs": []
    },
    {
      "cell_type": "code",
      "source": [
        "for data in new_test_loader:\n",
        "  out = forward_for_viz(data)"
      ],
      "metadata": {
        "id": "udn3ru2itxl8"
      },
      "execution_count": null,
      "outputs": []
    },
    {
      "cell_type": "code",
      "source": [
        "test_y = test_data.data.y"
      ],
      "metadata": {
        "id": "GpOD78aNwRKi"
      },
      "execution_count": null,
      "outputs": []
    },
    {
      "cell_type": "code",
      "source": [
        "test_real_before = out[test_y==1]"
      ],
      "metadata": {
        "id": "3vhMGgC0uZ4w"
      },
      "execution_count": null,
      "outputs": []
    },
    {
      "cell_type": "code",
      "source": [
        "test_fake_before = out[test_y==0]"
      ],
      "metadata": {
        "id": "t3vj0hMPwlKb"
      },
      "execution_count": null,
      "outputs": []
    },
    {
      "cell_type": "code",
      "source": [
        "for data in new_test_loader:\n",
        "  pred = best_model(data)"
      ],
      "metadata": {
        "id": "bXkisPMVyP0t"
      },
      "execution_count": null,
      "outputs": []
    },
    {
      "cell_type": "code",
      "source": [
        "out_after = np.genfromtxt('embed.csv')"
      ],
      "metadata": {
        "id": "SYWuxDph63Jv"
      },
      "execution_count": null,
      "outputs": []
    },
    {
      "cell_type": "code",
      "source": [
        "test_real_after = out_after[test_y==1]\n",
        "test_fake_after = out_after[test_y==0]"
      ],
      "metadata": {
        "id": "uawrT55o7Eo3"
      },
      "execution_count": null,
      "outputs": []
    },
    {
      "cell_type": "code",
      "source": [
        "from matplotlib import pyplot as plt"
      ],
      "metadata": {
        "id": "PapcrW_dVN5m"
      },
      "execution_count": null,
      "outputs": []
    },
    {
      "cell_type": "code",
      "source": [
        "plt.figure(figsize=(6, 12))\n",
        "plt.imshow(np.log(np.vstack([test_real_before,test_fake_before])), aspect='auto')\n",
        "plt.savefig('embed_before.svg')"
      ],
      "metadata": {
        "colab": {
          "base_uri": "https://localhost:8080/",
          "height": 772
        },
        "id": "Hy5Vh3BA-iuP",
        "outputId": "0d08a587-d56e-4adf-c801-89308cc6eb18"
      },
      "execution_count": null,
      "outputs": [
        {
          "output_type": "stream",
          "name": "stderr",
          "text": [
            "<ipython-input-265-aecd05a05c68>:2: RuntimeWarning: divide by zero encountered in log\n",
            "  plt.imshow(np.log(np.vstack([test_real_before,test_fake_before])), aspect='auto')\n",
            "<ipython-input-265-aecd05a05c68>:2: RuntimeWarning: invalid value encountered in log\n",
            "  plt.imshow(np.log(np.vstack([test_real_before,test_fake_before])), aspect='auto')\n"
          ]
        },
        {
          "output_type": "display_data",
          "data": {
            "text/plain": [
              "<Figure size 432x864 with 1 Axes>"
            ],
            "image/png": "[encoded data removed]"
          },
          "metadata": {
            "needs_background": "light"
          }
        }
      ]
    },
    {
      "cell_type": "code",
      "source": [
        "plt.figure(figsize=(6, 12))\n",
        "plt.imshow(np.log(np.vstack([test_real_after,test_fake_after])))\n",
        "plt.savefig('embed_after.svg')"
      ],
      "metadata": {
        "colab": {
          "base_uri": "https://localhost:8080/",
          "height": 664
        },
        "id": "tClAVg0m7VVZ",
        "outputId": "4c07a22e-c1b4-4459-82e8-43bf1ae08305"
      },
      "execution_count": null,
      "outputs": [
        {
          "output_type": "stream",
          "name": "stderr",
          "text": [
            "<ipython-input-266-a372b081f397>:2: RuntimeWarning: invalid value encountered in log\n",
            "  plt.imshow(np.log(np.vstack([test_real_after,test_fake_after])))\n"
          ]
        },
        {
          "output_type": "display_data",
          "data": {
            "text/plain": [
              "<Figure size 432x864 with 1 Axes>"
            ],
            "image/png": "[encoded data removed]"
          },
          "metadata": {
            "needs_background": "light"
          }
        }
      ]
    },
    {
      "cell_type": "markdown",
      "source": [
        "# GNN-DP"
      ],
      "metadata": {
        "id": "Jdi55JRBFQZ6"
      }
    },
    {
      "cell_type": "markdown",
      "source": [
        "## Load Data\n",
        "\n",
        "For Differential Pooling, we will use the torch_geometric.nn.dense_diff_pool module, which requires adjacency matrix as input as opposed to edge_index. So, when loading data, we apply an additional toDense transformation. \n",
        "\n",
        "In return, the loaded train/test/val data will have a feature adj (in lieu of edge_index).Given the max_node is set as 500, the adjacency matrix for each graph will be of shape (500, 500). \n"
      ],
      "metadata": {
        "id": "7ochrfCCFHlG"
      }
    },
    {
      "cell_type": "code",
      "source": [
        "def load_data(split, feature = None):\n",
        "  \"\"\"\n",
        "  Load train, validation, and test data from the UPFD dataset in PyG. Concact node\n",
        "  features *profile* and *bert*, which are Twitter user's profile attributes and \n",
        "  historical tweets encoded through BERT respectively. toDense transformation is applied\n",
        "  to return adjacency matrix.\n",
        "\n",
        "  -------------------------------------\n",
        "  split: 'train', 'val', or 'test' for retrieving the respective portion of UPFD.\n",
        "  feature: 'content' or None for which features to retrieve\n",
        "  -------------------------------------\n",
        "  Return: PyG dataset object.\n",
        "  \"\"\"\n",
        "  max_nodes = 500 # for convert to dense adj matrix, instead of edge_index\n",
        "  \n",
        "  if feature ==  'content':\n",
        "    return UPFD('/tmp/test', \"politifact\", feature, split, transform= T.ToDense(max_nodes), pre_transform= ToUndirected())\n",
        "  else:\n",
        "    data_profile =  UPFD('/tmp/test', \"politifact\", \"profile\", split, transform= T.ToDense(max_nodes), pre_transform= ToUndirected())\n",
        "    data_bert =  UPFD('/tmp/test', \"politifact\", \"bert\", split,  transform=T.ToDense(max_nodes), pre_transform=ToUndirected())\n",
        "    data_profile.data.x = torch.cat((data_profile.data.x, data_bert.data.x),dim =1)\n",
        "    return data_profile"
      ],
      "metadata": {
        "id": "WTL0qQhtFHlN"
      },
      "execution_count": null,
      "outputs": []
    },
    {
      "cell_type": "code",
      "source": [
        "# Retrieve data\n",
        "train_data = load_data('train')\n",
        "val_data = load_data('val')\n",
        "test_data = load_data('test')\n",
        "\n",
        "# Prepare data loader for GNN\n",
        "batch_size = 16\n",
        "train_loader = DenseDataLoader(train_data, batch_size, shuffle=True)\n",
        "val_loader = DenseDataLoader(val_data, batch_size, shuffle=False)\n",
        "test_loader = DenseDataLoader(test_data, batch_size, shuffle=False)\n",
        "\n",
        "# Note in the model, data are access through train_data[idx];\n",
        "# Adjacency matrix can be access through train_data[idx].adj\n",
        "stats = {'train': [train_data.data.x.shape,  train_data.data.y.shape, train_data.data.edge_index.shape],\n",
        "         'val': [val_data.data.x.shape,  val_data.data.y.shape, val_data.data.edge_index.shape],\n",
        "         'test': [test_data.data.x.shape,  test_data.data.y.shape, test_data.data.edge_index.shape]}\n",
        "index_labels=['x','y','edge_idx']\n",
        "stats = pd.DataFrame(stats, index = index_labels)\n",
        "stats"
      ],
      "metadata": {
        "colab": {
          "base_uri": "https://localhost:8080/",
          "height": 178
        },
        "outputId": "682e2f94-e6e6-4e50-bde2-9e8d55e03c02",
        "id": "vzecsWOPFHlN"
      },
      "execution_count": null,
      "outputs": [
        {
          "output_type": "stream",
          "name": "stderr",
          "text": [
            "/usr/local/lib/python3.9/dist-packages/torch_geometric/deprecation.py:12: UserWarning: 'data.DenseDataLoader' is deprecated, use 'loader.DenseDataLoader' instead\n",
            "  warnings.warn(out)\n"
          ]
        },
        {
          "output_type": "execute_result",
          "data": {
            "text/plain": [
              "                train          val          test\n",
              "x         (6072, 778)  (3778, 778)  (31204, 778)\n",
              "y               (62,)        (31,)        (221,)\n",
              "edge_idx   (2, 12020)    (2, 7494)    (2, 61966)"
            ],
            "text/html": [
              "\n",
              "  <div id=\"df-4c375a9a-a553-41df-bf4b-c994b29cf93f\">\n",
              "    <div class=\"colab-df-container\">\n",
              "      <div>\n",
              "<style scoped>\n",
              "    .dataframe tbody tr th:only-of-type {\n",
              "        vertical-align: middle;\n",
              "    }\n",
              "\n",
              "    .dataframe tbody tr th {\n",
              "        vertical-align: top;\n",
              "    }\n",
              "\n",
              "    .dataframe thead th {\n",
              "        text-align: right;\n",
              "    }\n",
              "</style>\n",
              "<table border=\"1\" class=\"dataframe\">\n",
              "  <thead>\n",
              "    <tr style=\"text-align: right;\">\n",
              "      <th></th>\n",
              "      <th>train</th>\n",
              "      <th>val</th>\n",
              "      <th>test</th>\n",
              "    </tr>\n",
              "  </thead>\n",
              "  <tbody>\n",
              "    <tr>\n",
              "      <th>x</th>\n",
              "      <td>(6072, 778)</td>\n",
              "      <td>(3778, 778)</td>\n",
              "      <td>(31204, 778)</td>\n",
              "    </tr>\n",
              "    <tr>\n",
              "      <th>y</th>\n",
              "      <td>(62,)</td>\n",
              "      <td>(31,)</td>\n",
              "      <td>(221,)</td>\n",
              "    </tr>\n",
              "    <tr>\n",
              "      <th>edge_idx</th>\n",
              "      <td>(2, 12020)</td>\n",
              "      <td>(2, 7494)</td>\n",
              "      <td>(2, 61966)</td>\n",
              "    </tr>\n",
              "  </tbody>\n",
              "</table>\n",
              "</div>\n",
              "      <button class=\"colab-df-convert\" onclick=\"convertToInteractive('df-4c375a9a-a553-41df-bf4b-c994b29cf93f')\"\n",
              "              title=\"Convert this dataframe to an interactive table.\"\n",
              "              style=\"display:none;\">\n",
              "        \n",
              "  <svg xmlns=\"http://www.w3.org/2000/svg\" height=\"24px\"viewBox=\"0 0 24 24\"\n",
              "       width=\"24px\">\n",
              "    <path d=\"M0 0h24v24H0V0z\" fill=\"none\"/>\n",
              "    <path d=\"M18.56 5.44l.94 2.06.94-2.06 2.06-.94-2.06-.94-.94-2.06-.94 2.06-2.06.94zm-11 1L8.5 8.5l.94-2.06 2.06-.94-2.06-.94L8.5 2.5l-.94 2.06-2.06.94zm10 10l.94 2.06.94-2.06 2.06-.94-2.06-.94-.94-2.06-.94 2.06-2.06.94z\"/><path d=\"M17.41 7.96l-1.37-1.37c-.4-.4-.92-.59-1.43-.59-.52 0-1.04.2-1.43.59L10.3 9.45l-7.72 7.72c-.78.78-.78 2.05 0 2.83L4 21.41c.39.39.9.59 1.41.59.51 0 1.02-.2 1.41-.59l7.78-7.78 2.81-2.81c.8-.78.8-2.07 0-2.86zM5.41 20L4 18.59l7.72-7.72 1.47 1.35L5.41 20z\"/>\n",
              "  </svg>\n",
              "      </button>\n",
              "      \n",
              "  <style>\n",
              "    .colab-df-container {\n",
              "      display:flex;\n",
              "      flex-wrap:wrap;\n",
              "      gap: 12px;\n",
              "    }\n",
              "\n",
              "    .colab-df-convert {\n",
              "      background-color: #E8F0FE;\n",
              "      border: none;\n",
              "      border-radius: 50%;\n",
              "      cursor: pointer;\n",
              "      display: none;\n",
              "      fill: #1967D2;\n",
              "      height: 32px;\n",
              "      padding: 0 0 0 0;\n",
              "      width: 32px;\n",
              "    }\n",
              "\n",
              "    .colab-df-convert:hover {\n",
              "      background-color: #E2EBFA;\n",
              "      box-shadow: 0px 1px 2px rgba(60, 64, 67, 0.3), 0px 1px 3px 1px rgba(60, 64, 67, 0.15);\n",
              "      fill: #174EA6;\n",
              "    }\n",
              "\n",
              "    [theme=dark] .colab-df-convert {\n",
              "      background-color: #3B4455;\n",
              "      fill: #D2E3FC;\n",
              "    }\n",
              "\n",
              "    [theme=dark] .colab-df-convert:hover {\n",
              "      background-color: #434B5C;\n",
              "      box-shadow: 0px 1px 3px 1px rgba(0, 0, 0, 0.15);\n",
              "      filter: drop-shadow(0px 1px 2px rgba(0, 0, 0, 0.3));\n",
              "      fill: #FFFFFF;\n",
              "    }\n",
              "  </style>\n",
              "\n",
              "      <script>\n",
              "        const buttonEl =\n",
              "          document.querySelector('#df-4c375a9a-a553-41df-bf4b-c994b29cf93f button.colab-df-convert');\n",
              "        buttonEl.style.display =\n",
              "          google.colab.kernel.accessAllowed ? 'block' : 'none';\n",
              "\n",
              "        async function convertToInteractive(key) {\n",
              "          const element = document.querySelector('#df-4c375a9a-a553-41df-bf4b-c994b29cf93f');\n",
              "          const dataTable =\n",
              "            await google.colab.kernel.invokeFunction('convertToInteractive',\n",
              "                                                     [key], {});\n",
              "          if (!dataTable) return;\n",
              "\n",
              "          const docLinkHtml = 'Like what you see? Visit the ' +\n",
              "            '<a target=\"_blank\" href=https://colab.research.google.com/notebooks/data_table.ipynb>data table notebook</a>'\n",
              "            + ' to learn more about interactive tables.';\n",
              "          element.innerHTML = '';\n",
              "          dataTable['output_type'] = 'display_data';\n",
              "          await google.colab.output.renderOutput(dataTable, element);\n",
              "          const docLink = document.createElement('div');\n",
              "          docLink.innerHTML = docLinkHtml;\n",
              "          element.appendChild(docLink);\n",
              "        }\n",
              "      </script>\n",
              "    </div>\n",
              "  </div>\n",
              "  "
            ]
          },
          "metadata": {},
          "execution_count": 20
        }
      ]
    },
    {
      "cell_type": "code",
      "source": [
        "# note the actual dimension of the adj matrix is now 500 x 500\n",
        "train_data[0]"
      ],
      "metadata": {
        "colab": {
          "base_uri": "https://localhost:8080/"
        },
        "id": "lmNGezAufTBi",
        "outputId": "8cc3ed9b-8efb-42f6-9b59-97e7b751b9e6"
      },
      "execution_count": null,
      "outputs": [
        {
          "output_type": "execute_result",
          "data": {
            "text/plain": [
              "Data(x=[500, 778], y=[1], adj=[500, 500], mask=[500])"
            ]
          },
          "metadata": {},
          "execution_count": 21
        }
      ]
    },
    {
      "cell_type": "markdown",
      "source": [
        "## GNN-DP Architecture\n",
        "GNN-DP has two main parts. \n"
      ],
      "metadata": {
        "id": "0uSYxeJnFNkp"
      }
    },
    {
      "cell_type": "code",
      "source": [
        "from torch.nn.modules.batchnorm import BatchNorm1d\n",
        "\n",
        "class GNN(torch.nn.Module):\n",
        "  def __init__(self, input_dim, hidden_dim, output_dim, normalize = False, lin = False):\n",
        "    \"\"\"\n",
        "    Initialize a customoized GNN with specific parameters. \n",
        "    \n",
        "    By default, this GCN has 2 convolutional layers and 1 linear layer if argument lin is set to be True. \n",
        "    It also has 1 layer of batch normalization between the two conv-layers.\n",
        "\n",
        "    The final output is the concatenated sequantial outputs of the DenseSageConv and Batchnorms layers.\n",
        "\n",
        "    -------------------------------------\n",
        "    self: GNN object\n",
        "    input_dim: dimension of the input\n",
        "    hidden_dim: dimension of the hidden layer(s)\n",
        "    output_dim: dimension of the output (i.e. number of classes)\n",
        "    normalize: True or False\n",
        "    lin: True or False\n",
        "    \"\"\"\n",
        "    super(GNN, self).__init__()\n",
        "\n",
        "    self.conv1 = DenseSAGEConv(input_dim, hidden_dim, normalize)\n",
        "    self.bn1= BatchNorm1d(hidden_dim)\n",
        "\n",
        "    self.conv2 = DenseSAGEConv(hidden_dim, output_dim, normalize)\n",
        "    self.bn2= BatchNorm1d(output_dim)\n",
        "\n",
        "    if lin:\n",
        "      self.lin = torch.nn.Linear(hidden_dim + output_dim, output_dim)\n",
        "    else:\n",
        "      self.lin = None\n",
        "\n",
        "    self.hidden_dim = hidden_dim\n",
        "    self.output_dim = output_dim\n",
        "\n",
        "  def forward(self, x, adj,mask = None):\n",
        "    #make a copy of x\n",
        "    batch_size, max_nodes, input_dim = x.shape\n",
        "    x0 = x\n",
        "\n",
        "    #sequentially feed through [GraphSageConv -> relu -> BatchNorm1d] x 2\n",
        "    x1 = F.relu(self.conv1(x0, adj, mask)).view(-1, self.hidden_dim)\n",
        "    x1 = self.bn1(x1).view(batch_size, -1, self.hidden_dim)\n",
        "\n",
        "    x2 = F.relu(self.conv2(x1, adj, mask)).view(-1, self.output_dim)\n",
        "    x2 = self.bn2(x2).view(batch_size, -1, self.output_dim)\n",
        "\n",
        "    #concatenate the output x1, x2\n",
        "    out = torch.cat([x1, x2], dim = -1)\n",
        "\n",
        "    #lin is only needed for assignment GNN, not for embedding GNN\n",
        "    if self.lin:\n",
        "      out = F.relu(self.lin(out))\n",
        "\n",
        "    return out"
      ],
      "metadata": {
        "id": "Uxy14JKCFNkq"
      },
      "execution_count": null,
      "outputs": []
    },
    {
      "cell_type": "code",
      "source": [
        "class GNNDP(torch.nn.Module):\n",
        "  def __init__(self, input_dim, hidden_dim, output_dim):\n",
        "    \"\"\"\n",
        "    Initialize a Graph Neural Network with Differential Pooling (GNNDP) with specific parameters. \n",
        "  \n",
        "\n",
        "    The embedding matrix and the assignment matrix of eacg graph are computed by two separate customized GNN models respectively.\n",
        "    In the 2 DIFFPOOL layer architecture, the number of clusters is set as 20% of the number of nodes before applying DIFFPOOL. \n",
        "    As a result, with max_node=500, we reduce the nodes to 100 then 20.\n",
        "    A final GNN layer is applied to compute the embedding matrix before mean aggregation for each graph.\n",
        "\n",
        "    The final output is 2 class prediction softmax logits after applying relu activation and a affine layer.\n",
        "    -------------------------------------\n",
        "    self: GNNDP object\n",
        "    input_dim: dimension of the input\n",
        "    hidden_dim: dimension of the hidden layer(s)\n",
        "    output_dim: dimension of the output (i.e. number of classes)\n",
        "    \"\"\"\n",
        "    super(GNNDP,self).__init__()\n",
        "    max_nodes = 500\n",
        "\n",
        "    num_nodes = ceil(0.2 * max_nodes)\n",
        "    #note below that gnn1_pool has lin=True for cluster assignment, but gnn1_embed has lin=False\n",
        "    self.gnn1_pool = GNN(input_dim, hidden_dim, num_nodes, lin=True)\n",
        "    self.gnn1_embed = GNN(input_dim, hidden_dim, hidden_dim, lin=False)\n",
        "    \n",
        "    num_nodes = ceil(0.2 * num_nodes)\n",
        "    self.gnn2_pool = GNN(hidden_dim *2, hidden_dim, num_nodes, lin=True)\n",
        "    self.gnn2_embed = GNN(hidden_dim *2, hidden_dim, hidden_dim, lin=False)\n",
        "\n",
        "    self.gnn3_embed = GNN(2 * hidden_dim, hidden_dim, hidden_dim, lin=False)\n",
        "\n",
        "    self.lin1 = torch.nn.Linear(2 * hidden_dim, hidden_dim)\n",
        "    self.lin2 = torch.nn.Linear(hidden_dim, output_dim)\n",
        "    \n",
        "  def forward(self, x, adj, mask):\n",
        "    #first diff pool: s for assignment, x for embedding; train both GNNs simultaneuously\n",
        "    #note below that gnn1_pool has lin=True for cluster assignment, but gnn1_embed has lin=False\n",
        "    s = self.gnn1_pool(x, adj, mask)\n",
        "    x = self.gnn1_embed(x, adj, mask)\n",
        "    x, adj, l1, e1 = dense_diff_pool(x, adj, s, mask) #out, out_adj, link_loss, ent_loss; out is cluster embedding of size B x C x Feature_dimension\n",
        " \n",
        "\n",
        "    #2nd diff pool, with reduced assignment size [num_nodes = ceil(0.25 * num_nodes)]\n",
        "    s = self.gnn2_pool(x, adj)\n",
        "    x = self.gnn2_embed(x, adj)\n",
        "    x, adj, l2, e2 = dense_diff_pool(x, adj, s)\n",
        "\n",
        "    #update embedding again, without calculating new assignemnt\n",
        "    x = self.gnn3_embed(x, adj)\n",
        "\n",
        "    #calculate new assignemnt with a linear layer\n",
        "    x = x.mean(dim=1)\n",
        "    x = F.relu(self.lin1(x))\n",
        "    x = self.lin2(x)\n",
        "\n",
        "    #return F.log_softmax(x, dim=-1), l1 + l2, e1 + e2\n",
        "    return F.softmax(x, dim=-1), l1 + l2, e1 + e2\n"
      ],
      "metadata": {
        "id": "CRrW3uzLVTgl"
      },
      "execution_count": null,
      "outputs": []
    },
    {
      "cell_type": "markdown",
      "source": [
        "\n",
        "What are the shape of the intermediate embeddings and cluster assignments?\n",
        "\n",
        "1st pool: \n",
        "* cluster assignmenet shape is torch.Size([16, 500, 100]),  embedding shape is torch.Size([16, 500, 64])\n",
        "* post diff pool, embedding shape is torch.Size([16, 100, 64]), adj matrix shape is torch.Size([16, 100, 100])\n",
        "\n",
        "2nd pool: \n",
        "* cluster assignmenet shape is torch.Size([16, 100, 20]),  embedding shape is torch.Size([16, 100, 64])\n",
        "* post diff pool, embedding shape is torch.Size([16, 20, 64]), adj matrix shape is torch.Size([16, 20, 20])\n",
        "\n",
        "3rd gnn, embedding shape is torch.Size([14, 20, 64])\n",
        "\n",
        "Final prediction shape is ([16,2])"
      ],
      "metadata": {
        "id": "GA0as5ePg9Kw"
      }
    },
    {
      "cell_type": "markdown",
      "source": [
        "## GNN-DP Model Training"
      ],
      "metadata": {
        "id": "qCpHxxJIGtWt"
      }
    },
    {
      "cell_type": "code",
      "source": [
        "def train():\n",
        "  \"\"\"\n",
        "  Train the model using given data, optimizer, and loss_fn\n",
        "  --------------------------------------\n",
        "  model: the model we specified\n",
        "  data: train data multiple batches of graphs, therefore needs to loop through each batch of graph \n",
        "        and add loss of each graph results. \n",
        "  \"\"\"\n",
        "  model.train()\n",
        "  loss_all = 0\n",
        "  pred = []\n",
        "  label = []\n",
        "\n",
        "  for data in train_loader:\n",
        "    data = data.to(device)\n",
        "    optimizer.zero_grad()\n",
        "    out, _, _ = model(data.x, data.adj, data.mask)\n",
        "    #loss = F.nll_loss(out, data.y.view(-1))\n",
        "    loss = F.cross_entropy(out, data.y.view(-1))\n",
        "    loss_all += data.y.size(0) * loss.item()\n",
        "    loss.backward()\n",
        "    optimizer.step()\n",
        "    pred_y = out.argmax(dim=-1, keepdim=True).tolist()\n",
        "    pred.extend(pred_y)\n",
        "    label.extend(data.y.tolist())\n",
        "    \n",
        "  acc = accuracy_score(label, pred)\n",
        "  f1 = f1_score(label, pred)\n",
        "  auc = roc_auc_score(label, pred)\n",
        "  \n",
        "  return acc , f1, auc , loss_all / len(train_loader.dataset)\n"
      ],
      "metadata": {
        "id": "oHCCyunmGtWt"
      },
      "execution_count": null,
      "outputs": []
    },
    {
      "cell_type": "markdown",
      "source": [
        "## GNN-DP Model Performance"
      ],
      "metadata": {
        "id": "ZUtQvjd7GtWu"
      }
    },
    {
      "cell_type": "code",
      "source": [
        "@torch.no_grad()\n",
        "def evaluate(model, loader):\n",
        "  \"\"\"\n",
        "  Evaluate performance based on the eval_metric.\n",
        "  \"\"\"\n",
        "\n",
        "  # Put model in evaluation mode\n",
        "  model.eval()\n",
        "\n",
        "  pred = []\n",
        "  label = []\n",
        "  loss_test = 0\n",
        "\n",
        "  for data in loader:\n",
        "    data = data.to(device)\n",
        "    out, _, _ = model(data.x, data.adj, data.mask)\n",
        "    pred_y = out.argmax(dim=-1, keepdim=True).tolist()\n",
        "    pred.extend(pred_y)\n",
        "    label.extend(data.y.tolist())\n",
        "    #loss = F.nll_loss(out, data.y.view(-1))\n",
        "    loss = F.cross_entropy(out, data.y.view(-1))\n",
        "    loss_test += data.y.size(0) * loss.item()\n",
        "  \n",
        "  acc = accuracy_score(label, pred)\n",
        "  f1 = f1_score(label, pred)\n",
        "  auc = roc_auc_score(label, pred)\n",
        "\n",
        "  return acc, f1, auc, loss_test/len(loader.dataset)"
      ],
      "metadata": {
        "id": "IZhyuiVDJcG3"
      },
      "execution_count": null,
      "outputs": []
    },
    {
      "cell_type": "markdown",
      "source": [
        "## GNN-DP Run Model"
      ],
      "metadata": {
        "id": "AUcQKBtJHPmP"
      }
    },
    {
      "cell_type": "code",
      "source": [
        "seed = 777\n",
        "torch.manual_seed(seed)\n",
        "\n",
        "if torch.cuda.is_available():\n",
        "\ttorch.cuda.manual_seed(seed)\n",
        "\n",
        "num_classes = train_data.num_classes\n",
        "num_features = train_data.num_features\n",
        "\n",
        "device = torch.device('cuda' if torch.cuda.is_available() else 'cpu')\n",
        "model = GNNDP(input_dim=num_features,hidden_dim =32, output_dim=num_classes).to(device)\n",
        "optimizer = torch.optim.Adam(model.parameters(), lr=0.0005)\n",
        "model = model.to(device)"
      ],
      "metadata": {
        "id": "Jhz3qKHqHPmP"
      },
      "execution_count": null,
      "outputs": []
    },
    {
      "cell_type": "code",
      "source": [
        "best_model = None\n",
        "best_val_value = 0\n",
        "epochs = 100\n",
        "\n",
        "evaluator = eval\n",
        "loss_fn = F.nll_loss\n",
        "\n",
        "resultdf = pd.DataFrame(columns = ['train_acc', 'train_f1', 'train_auc', 'train_loss', \n",
        "                                   'val_acc', 'val_f1', 'val_auc', 'val_loss'])\n",
        "\n",
        "model.train()\n",
        "for epoch in tqdm(range(epochs)):\n",
        "  acc_train, f1_train, auc_train, loss_train = train()\n",
        "  acc_val, f1_val, auc_val, loss_val = evaluate(model,val_loader)\n",
        "  \n",
        "  if acc_val > best_val_value:\n",
        "    best_val_value = acc_val\n",
        "    best_model = copy.deepcopy(model)\n",
        "  \n",
        "  resultdf = resultdf.append({'train_acc': acc_train, 'train_f1': f1_train, 'train_auc': auc_train, 'train_loss': loss_train,\n",
        "             'val_acc': acc_val, 'val_f1': f1_val, 'val_auc': auc_val, 'val_loss': loss_val}, ignore_index= True)   \n",
        "\t\n",
        "  print(f'loss_train: {loss_train:.4f}, acc_train: {acc_train:.4f},'\n",
        "\t\t  f'loss_val: {loss_val:.4f}, acc_val: {acc_val:.4f}.')\n"
      ],
      "metadata": {
        "colab": {
          "base_uri": "https://localhost:8080/"
        },
        "outputId": "26d58681-4841-410e-f9e8-7f385a699da1",
        "id": "KGCs2DOjHPmP"
      },
      "execution_count": null,
      "outputs": [
        {
          "output_type": "stream",
          "name": "stderr",
          "text": [
            "  0%|          | 0/100 [00:00<?, ?it/s]<ipython-input-27-0739944d3bc2>:20: FutureWarning: The frame.append method is deprecated and will be removed from pandas in a future version. Use pandas.concat instead.\n",
            "  resultdf = resultdf.append({'train_acc': acc_train, 'train_f1': f1_train, 'train_auc': auc_train, 'train_loss': loss_train,\n",
            "  1%|          | 1/100 [00:00<00:45,  2.18it/s]"
          ]
        },
        {
          "output_type": "stream",
          "name": "stdout",
          "text": [
            "loss_train: 0.7092, acc_train: 0.4355,loss_val: 0.6890, acc_val: 0.5806.\n"
          ]
        },
        {
          "output_type": "stream",
          "name": "stderr",
          "text": [
            "<ipython-input-27-0739944d3bc2>:20: FutureWarning: The frame.append method is deprecated and will be removed from pandas in a future version. Use pandas.concat instead.\n",
            "  resultdf = resultdf.append({'train_acc': acc_train, 'train_f1': f1_train, 'train_auc': auc_train, 'train_loss': loss_train,\n",
            "\r  2%|▏         | 2/100 [00:00<00:38,  2.52it/s]"
          ]
        },
        {
          "output_type": "stream",
          "name": "stdout",
          "text": [
            "loss_train: 0.6944, acc_train: 0.4839,loss_val: 0.6869, acc_val: 0.5806.\n"
          ]
        },
        {
          "output_type": "stream",
          "name": "stderr",
          "text": [
            "<ipython-input-27-0739944d3bc2>:20: FutureWarning: The frame.append method is deprecated and will be removed from pandas in a future version. Use pandas.concat instead.\n",
            "  resultdf = resultdf.append({'train_acc': acc_train, 'train_f1': f1_train, 'train_auc': auc_train, 'train_loss': loss_train,\n",
            "\r  3%|▎         | 3/100 [00:01<00:38,  2.54it/s]"
          ]
        },
        {
          "output_type": "stream",
          "name": "stdout",
          "text": [
            "loss_train: 0.6909, acc_train: 0.4677,loss_val: 0.6899, acc_val: 0.5806.\n"
          ]
        },
        {
          "output_type": "stream",
          "name": "stderr",
          "text": [
            "<ipython-input-27-0739944d3bc2>:20: FutureWarning: The frame.append method is deprecated and will be removed from pandas in a future version. Use pandas.concat instead.\n",
            "  resultdf = resultdf.append({'train_acc': acc_train, 'train_f1': f1_train, 'train_auc': auc_train, 'train_loss': loss_train,\n",
            "\r  4%|▍         | 4/100 [00:01<00:34,  2.76it/s]"
          ]
        },
        {
          "output_type": "stream",
          "name": "stdout",
          "text": [
            "loss_train: 0.6829, acc_train: 0.5968,loss_val: 0.6983, acc_val: 0.5161.\n"
          ]
        },
        {
          "output_type": "stream",
          "name": "stderr",
          "text": [
            "<ipython-input-27-0739944d3bc2>:20: FutureWarning: The frame.append method is deprecated and will be removed from pandas in a future version. Use pandas.concat instead.\n",
            "  resultdf = resultdf.append({'train_acc': acc_train, 'train_f1': f1_train, 'train_auc': auc_train, 'train_loss': loss_train,\n",
            "\r  5%|▌         | 5/100 [00:01<00:31,  2.98it/s]"
          ]
        },
        {
          "output_type": "stream",
          "name": "stdout",
          "text": [
            "loss_train: 0.6748, acc_train: 0.6129,loss_val: 0.7005, acc_val: 0.4839.\n"
          ]
        },
        {
          "output_type": "stream",
          "name": "stderr",
          "text": [
            "<ipython-input-27-0739944d3bc2>:20: FutureWarning: The frame.append method is deprecated and will be removed from pandas in a future version. Use pandas.concat instead.\n",
            "  resultdf = resultdf.append({'train_acc': acc_train, 'train_f1': f1_train, 'train_auc': auc_train, 'train_loss': loss_train,\n",
            "\r  6%|▌         | 6/100 [00:02<00:33,  2.77it/s]"
          ]
        },
        {
          "output_type": "stream",
          "name": "stdout",
          "text": [
            "loss_train: 0.6608, acc_train: 0.6290,loss_val: 0.7006, acc_val: 0.4839.\n"
          ]
        },
        {
          "output_type": "stream",
          "name": "stderr",
          "text": [
            "<ipython-input-27-0739944d3bc2>:20: FutureWarning: The frame.append method is deprecated and will be removed from pandas in a future version. Use pandas.concat instead.\n",
            "  resultdf = resultdf.append({'train_acc': acc_train, 'train_f1': f1_train, 'train_auc': auc_train, 'train_loss': loss_train,\n",
            "\r  7%|▋         | 7/100 [00:02<00:34,  2.67it/s]"
          ]
        },
        {
          "output_type": "stream",
          "name": "stdout",
          "text": [
            "loss_train: 0.6471, acc_train: 0.6129,loss_val: 0.7006, acc_val: 0.4839.\n"
          ]
        },
        {
          "output_type": "stream",
          "name": "stderr",
          "text": [
            "<ipython-input-27-0739944d3bc2>:20: FutureWarning: The frame.append method is deprecated and will be removed from pandas in a future version. Use pandas.concat instead.\n",
            "  resultdf = resultdf.append({'train_acc': acc_train, 'train_f1': f1_train, 'train_auc': auc_train, 'train_loss': loss_train,\n",
            "\r  8%|▊         | 8/100 [00:03<00:37,  2.44it/s]"
          ]
        },
        {
          "output_type": "stream",
          "name": "stdout",
          "text": [
            "loss_train: 0.6398, acc_train: 0.6935,loss_val: 0.7039, acc_val: 0.4839.\n"
          ]
        },
        {
          "output_type": "stream",
          "name": "stderr",
          "text": [
            "<ipython-input-27-0739944d3bc2>:20: FutureWarning: The frame.append method is deprecated and will be removed from pandas in a future version. Use pandas.concat instead.\n",
            "  resultdf = resultdf.append({'train_acc': acc_train, 'train_f1': f1_train, 'train_auc': auc_train, 'train_loss': loss_train,\n",
            "\r  9%|▉         | 9/100 [00:03<00:37,  2.44it/s]"
          ]
        },
        {
          "output_type": "stream",
          "name": "stdout",
          "text": [
            "loss_train: 0.6301, acc_train: 0.6613,loss_val: 0.7068, acc_val: 0.5161.\n"
          ]
        },
        {
          "output_type": "stream",
          "name": "stderr",
          "text": [
            "<ipython-input-27-0739944d3bc2>:20: FutureWarning: The frame.append method is deprecated and will be removed from pandas in a future version. Use pandas.concat instead.\n",
            "  resultdf = resultdf.append({'train_acc': acc_train, 'train_f1': f1_train, 'train_auc': auc_train, 'train_loss': loss_train,\n",
            "\r 10%|█         | 10/100 [00:04<00:44,  2.00it/s]"
          ]
        },
        {
          "output_type": "stream",
          "name": "stdout",
          "text": [
            "loss_train: 0.6208, acc_train: 0.7097,loss_val: 0.7144, acc_val: 0.4516.\n"
          ]
        },
        {
          "output_type": "stream",
          "name": "stderr",
          "text": [
            "<ipython-input-27-0739944d3bc2>:20: FutureWarning: The frame.append method is deprecated and will be removed from pandas in a future version. Use pandas.concat instead.\n",
            "  resultdf = resultdf.append({'train_acc': acc_train, 'train_f1': f1_train, 'train_auc': auc_train, 'train_loss': loss_train,\n",
            "\r 11%|█         | 11/100 [00:05<00:54,  1.64it/s]"
          ]
        },
        {
          "output_type": "stream",
          "name": "stdout",
          "text": [
            "loss_train: 0.6133, acc_train: 0.6935,loss_val: 0.7227, acc_val: 0.4516.\n"
          ]
        },
        {
          "output_type": "stream",
          "name": "stderr",
          "text": [
            "<ipython-input-27-0739944d3bc2>:20: FutureWarning: The frame.append method is deprecated and will be removed from pandas in a future version. Use pandas.concat instead.\n",
            "  resultdf = resultdf.append({'train_acc': acc_train, 'train_f1': f1_train, 'train_auc': auc_train, 'train_loss': loss_train,\n",
            "\r 12%|█▏        | 12/100 [00:05<00:56,  1.55it/s]"
          ]
        },
        {
          "output_type": "stream",
          "name": "stdout",
          "text": [
            "loss_train: 0.6184, acc_train: 0.6774,loss_val: 0.7120, acc_val: 0.4839.\n"
          ]
        },
        {
          "output_type": "stream",
          "name": "stderr",
          "text": [
            "<ipython-input-27-0739944d3bc2>:20: FutureWarning: The frame.append method is deprecated and will be removed from pandas in a future version. Use pandas.concat instead.\n",
            "  resultdf = resultdf.append({'train_acc': acc_train, 'train_f1': f1_train, 'train_auc': auc_train, 'train_loss': loss_train,\n",
            "\r 13%|█▎        | 13/100 [00:06<00:58,  1.50it/s]"
          ]
        },
        {
          "output_type": "stream",
          "name": "stdout",
          "text": [
            "loss_train: 0.5843, acc_train: 0.7419,loss_val: 0.6908, acc_val: 0.5161.\n"
          ]
        },
        {
          "output_type": "stream",
          "name": "stderr",
          "text": [
            "<ipython-input-27-0739944d3bc2>:20: FutureWarning: The frame.append method is deprecated and will be removed from pandas in a future version. Use pandas.concat instead.\n",
            "  resultdf = resultdf.append({'train_acc': acc_train, 'train_f1': f1_train, 'train_auc': auc_train, 'train_loss': loss_train,\n",
            "\r 14%|█▍        | 14/100 [00:07<00:57,  1.48it/s]"
          ]
        },
        {
          "output_type": "stream",
          "name": "stdout",
          "text": [
            "loss_train: 0.5851, acc_train: 0.7258,loss_val: 0.6853, acc_val: 0.5161.\n"
          ]
        },
        {
          "output_type": "stream",
          "name": "stderr",
          "text": [
            "<ipython-input-27-0739944d3bc2>:20: FutureWarning: The frame.append method is deprecated and will be removed from pandas in a future version. Use pandas.concat instead.\n",
            "  resultdf = resultdf.append({'train_acc': acc_train, 'train_f1': f1_train, 'train_auc': auc_train, 'train_loss': loss_train,\n",
            "\r 15%|█▌        | 15/100 [00:07<00:57,  1.47it/s]"
          ]
        },
        {
          "output_type": "stream",
          "name": "stdout",
          "text": [
            "loss_train: 0.5631, acc_train: 0.7903,loss_val: 0.6742, acc_val: 0.4839.\n"
          ]
        },
        {
          "output_type": "stream",
          "name": "stderr",
          "text": [
            "<ipython-input-27-0739944d3bc2>:20: FutureWarning: The frame.append method is deprecated and will be removed from pandas in a future version. Use pandas.concat instead.\n",
            "  resultdf = resultdf.append({'train_acc': acc_train, 'train_f1': f1_train, 'train_auc': auc_train, 'train_loss': loss_train,\n",
            "\r 16%|█▌        | 16/100 [00:08<00:57,  1.45it/s]"
          ]
        },
        {
          "output_type": "stream",
          "name": "stdout",
          "text": [
            "loss_train: 0.5616, acc_train: 0.7581,loss_val: 0.6626, acc_val: 0.5484.\n"
          ]
        },
        {
          "output_type": "stream",
          "name": "stderr",
          "text": [
            "<ipython-input-27-0739944d3bc2>:20: FutureWarning: The frame.append method is deprecated and will be removed from pandas in a future version. Use pandas.concat instead.\n",
            "  resultdf = resultdf.append({'train_acc': acc_train, 'train_f1': f1_train, 'train_auc': auc_train, 'train_loss': loss_train,\n",
            "\r 17%|█▋        | 17/100 [00:09<00:58,  1.43it/s]"
          ]
        },
        {
          "output_type": "stream",
          "name": "stdout",
          "text": [
            "loss_train: 0.5539, acc_train: 0.7903,loss_val: 0.6589, acc_val: 0.5484.\n"
          ]
        },
        {
          "output_type": "stream",
          "name": "stderr",
          "text": [
            "<ipython-input-27-0739944d3bc2>:20: FutureWarning: The frame.append method is deprecated and will be removed from pandas in a future version. Use pandas.concat instead.\n",
            "  resultdf = resultdf.append({'train_acc': acc_train, 'train_f1': f1_train, 'train_auc': auc_train, 'train_loss': loss_train,\n",
            "\r 18%|█▊        | 18/100 [00:09<00:52,  1.56it/s]"
          ]
        },
        {
          "output_type": "stream",
          "name": "stdout",
          "text": [
            "loss_train: 0.5186, acc_train: 0.8548,loss_val: 0.6628, acc_val: 0.5484.\n"
          ]
        },
        {
          "output_type": "stream",
          "name": "stderr",
          "text": [
            "<ipython-input-27-0739944d3bc2>:20: FutureWarning: The frame.append method is deprecated and will be removed from pandas in a future version. Use pandas.concat instead.\n",
            "  resultdf = resultdf.append({'train_acc': acc_train, 'train_f1': f1_train, 'train_auc': auc_train, 'train_loss': loss_train,\n",
            "\r 19%|█▉        | 19/100 [00:10<00:52,  1.53it/s]"
          ]
        },
        {
          "output_type": "stream",
          "name": "stdout",
          "text": [
            "loss_train: 0.5168, acc_train: 0.8226,loss_val: 0.6153, acc_val: 0.6774.\n"
          ]
        },
        {
          "output_type": "stream",
          "name": "stderr",
          "text": [
            "<ipython-input-27-0739944d3bc2>:20: FutureWarning: The frame.append method is deprecated and will be removed from pandas in a future version. Use pandas.concat instead.\n",
            "  resultdf = resultdf.append({'train_acc': acc_train, 'train_f1': f1_train, 'train_auc': auc_train, 'train_loss': loss_train,\n",
            "\r 20%|██        | 20/100 [00:11<00:49,  1.63it/s]"
          ]
        },
        {
          "output_type": "stream",
          "name": "stdout",
          "text": [
            "loss_train: 0.4770, acc_train: 0.8710,loss_val: 0.6175, acc_val: 0.6452.\n"
          ]
        },
        {
          "output_type": "stream",
          "name": "stderr",
          "text": [
            "<ipython-input-27-0739944d3bc2>:20: FutureWarning: The frame.append method is deprecated and will be removed from pandas in a future version. Use pandas.concat instead.\n",
            "  resultdf = resultdf.append({'train_acc': acc_train, 'train_f1': f1_train, 'train_auc': auc_train, 'train_loss': loss_train,\n",
            "\r 21%|██        | 21/100 [00:11<00:43,  1.81it/s]"
          ]
        },
        {
          "output_type": "stream",
          "name": "stdout",
          "text": [
            "loss_train: 0.4758, acc_train: 0.8710,loss_val: 0.6245, acc_val: 0.6452.\n"
          ]
        },
        {
          "output_type": "stream",
          "name": "stderr",
          "text": [
            "<ipython-input-27-0739944d3bc2>:20: FutureWarning: The frame.append method is deprecated and will be removed from pandas in a future version. Use pandas.concat instead.\n",
            "  resultdf = resultdf.append({'train_acc': acc_train, 'train_f1': f1_train, 'train_auc': auc_train, 'train_loss': loss_train,\n",
            "\r 22%|██▏       | 22/100 [00:11<00:38,  2.01it/s]"
          ]
        },
        {
          "output_type": "stream",
          "name": "stdout",
          "text": [
            "loss_train: 0.4739, acc_train: 0.8710,loss_val: 0.5925, acc_val: 0.6774.\n"
          ]
        },
        {
          "output_type": "stream",
          "name": "stderr",
          "text": [
            "<ipython-input-27-0739944d3bc2>:20: FutureWarning: The frame.append method is deprecated and will be removed from pandas in a future version. Use pandas.concat instead.\n",
            "  resultdf = resultdf.append({'train_acc': acc_train, 'train_f1': f1_train, 'train_auc': auc_train, 'train_loss': loss_train,\n",
            "\r 23%|██▎       | 23/100 [00:12<00:37,  2.05it/s]"
          ]
        },
        {
          "output_type": "stream",
          "name": "stdout",
          "text": [
            "loss_train: 0.4584, acc_train: 0.9032,loss_val: 0.6400, acc_val: 0.6129.\n"
          ]
        },
        {
          "output_type": "stream",
          "name": "stderr",
          "text": [
            "<ipython-input-27-0739944d3bc2>:20: FutureWarning: The frame.append method is deprecated and will be removed from pandas in a future version. Use pandas.concat instead.\n",
            "  resultdf = resultdf.append({'train_acc': acc_train, 'train_f1': f1_train, 'train_auc': auc_train, 'train_loss': loss_train,\n",
            "\r 24%|██▍       | 24/100 [00:12<00:37,  2.01it/s]"
          ]
        },
        {
          "output_type": "stream",
          "name": "stdout",
          "text": [
            "loss_train: 0.4298, acc_train: 0.9194,loss_val: 0.6188, acc_val: 0.6452.\n"
          ]
        },
        {
          "output_type": "stream",
          "name": "stderr",
          "text": [
            "<ipython-input-27-0739944d3bc2>:20: FutureWarning: The frame.append method is deprecated and will be removed from pandas in a future version. Use pandas.concat instead.\n",
            "  resultdf = resultdf.append({'train_acc': acc_train, 'train_f1': f1_train, 'train_auc': auc_train, 'train_loss': loss_train,\n",
            "\r 25%|██▌       | 25/100 [00:13<00:36,  2.05it/s]"
          ]
        },
        {
          "output_type": "stream",
          "name": "stdout",
          "text": [
            "loss_train: 0.4135, acc_train: 0.9355,loss_val: 0.5808, acc_val: 0.7097.\n"
          ]
        },
        {
          "output_type": "stream",
          "name": "stderr",
          "text": [
            "<ipython-input-27-0739944d3bc2>:20: FutureWarning: The frame.append method is deprecated and will be removed from pandas in a future version. Use pandas.concat instead.\n",
            "  resultdf = resultdf.append({'train_acc': acc_train, 'train_f1': f1_train, 'train_auc': auc_train, 'train_loss': loss_train,\n",
            "\r 26%|██▌       | 26/100 [00:13<00:35,  2.09it/s]"
          ]
        },
        {
          "output_type": "stream",
          "name": "stdout",
          "text": [
            "loss_train: 0.4245, acc_train: 0.9032,loss_val: 0.5886, acc_val: 0.6774.\n"
          ]
        },
        {
          "output_type": "stream",
          "name": "stderr",
          "text": [
            "<ipython-input-27-0739944d3bc2>:20: FutureWarning: The frame.append method is deprecated and will be removed from pandas in a future version. Use pandas.concat instead.\n",
            "  resultdf = resultdf.append({'train_acc': acc_train, 'train_f1': f1_train, 'train_auc': auc_train, 'train_loss': loss_train,\n",
            "\r 27%|██▋       | 27/100 [00:14<00:33,  2.15it/s]"
          ]
        },
        {
          "output_type": "stream",
          "name": "stdout",
          "text": [
            "loss_train: 0.4137, acc_train: 0.9032,loss_val: 0.7063, acc_val: 0.5161.\n"
          ]
        },
        {
          "output_type": "stream",
          "name": "stderr",
          "text": [
            "<ipython-input-27-0739944d3bc2>:20: FutureWarning: The frame.append method is deprecated and will be removed from pandas in a future version. Use pandas.concat instead.\n",
            "  resultdf = resultdf.append({'train_acc': acc_train, 'train_f1': f1_train, 'train_auc': auc_train, 'train_loss': loss_train,\n",
            "\r 28%|██▊       | 28/100 [00:14<00:32,  2.20it/s]"
          ]
        },
        {
          "output_type": "stream",
          "name": "stdout",
          "text": [
            "loss_train: 0.3930, acc_train: 0.9516,loss_val: 0.6569, acc_val: 0.5806.\n"
          ]
        },
        {
          "output_type": "stream",
          "name": "stderr",
          "text": [
            "<ipython-input-27-0739944d3bc2>:20: FutureWarning: The frame.append method is deprecated and will be removed from pandas in a future version. Use pandas.concat instead.\n",
            "  resultdf = resultdf.append({'train_acc': acc_train, 'train_f1': f1_train, 'train_auc': auc_train, 'train_loss': loss_train,\n",
            "\r 29%|██▉       | 29/100 [00:15<00:31,  2.23it/s]"
          ]
        },
        {
          "output_type": "stream",
          "name": "stdout",
          "text": [
            "loss_train: 0.3931, acc_train: 0.9355,loss_val: 0.6270, acc_val: 0.6774.\n"
          ]
        },
        {
          "output_type": "stream",
          "name": "stderr",
          "text": [
            "<ipython-input-27-0739944d3bc2>:20: FutureWarning: The frame.append method is deprecated and will be removed from pandas in a future version. Use pandas.concat instead.\n",
            "  resultdf = resultdf.append({'train_acc': acc_train, 'train_f1': f1_train, 'train_auc': auc_train, 'train_loss': loss_train,\n",
            "\r 30%|███       | 30/100 [00:15<00:32,  2.19it/s]"
          ]
        },
        {
          "output_type": "stream",
          "name": "stdout",
          "text": [
            "loss_train: 0.3861, acc_train: 0.9677,loss_val: 0.5968, acc_val: 0.6774.\n"
          ]
        },
        {
          "output_type": "stream",
          "name": "stderr",
          "text": [
            "<ipython-input-27-0739944d3bc2>:20: FutureWarning: The frame.append method is deprecated and will be removed from pandas in a future version. Use pandas.concat instead.\n",
            "  resultdf = resultdf.append({'train_acc': acc_train, 'train_f1': f1_train, 'train_auc': auc_train, 'train_loss': loss_train,\n",
            "\r 31%|███       | 31/100 [00:15<00:31,  2.16it/s]"
          ]
        },
        {
          "output_type": "stream",
          "name": "stdout",
          "text": [
            "loss_train: 0.3493, acc_train: 1.0000,loss_val: 0.5686, acc_val: 0.7097.\n"
          ]
        },
        {
          "output_type": "stream",
          "name": "stderr",
          "text": [
            "<ipython-input-27-0739944d3bc2>:20: FutureWarning: The frame.append method is deprecated and will be removed from pandas in a future version. Use pandas.concat instead.\n",
            "  resultdf = resultdf.append({'train_acc': acc_train, 'train_f1': f1_train, 'train_auc': auc_train, 'train_loss': loss_train,\n",
            "\r 32%|███▏      | 32/100 [00:16<00:30,  2.25it/s]"
          ]
        },
        {
          "output_type": "stream",
          "name": "stdout",
          "text": [
            "loss_train: 0.3733, acc_train: 0.9677,loss_val: 0.5548, acc_val: 0.8065.\n"
          ]
        },
        {
          "output_type": "stream",
          "name": "stderr",
          "text": [
            "<ipython-input-27-0739944d3bc2>:20: FutureWarning: The frame.append method is deprecated and will be removed from pandas in a future version. Use pandas.concat instead.\n",
            "  resultdf = resultdf.append({'train_acc': acc_train, 'train_f1': f1_train, 'train_auc': auc_train, 'train_loss': loss_train,\n",
            "\r 33%|███▎      | 33/100 [00:16<00:31,  2.12it/s]"
          ]
        },
        {
          "output_type": "stream",
          "name": "stdout",
          "text": [
            "loss_train: 0.3533, acc_train: 0.9839,loss_val: 0.5481, acc_val: 0.7419.\n"
          ]
        },
        {
          "output_type": "stream",
          "name": "stderr",
          "text": [
            "<ipython-input-27-0739944d3bc2>:20: FutureWarning: The frame.append method is deprecated and will be removed from pandas in a future version. Use pandas.concat instead.\n",
            "  resultdf = resultdf.append({'train_acc': acc_train, 'train_f1': f1_train, 'train_auc': auc_train, 'train_loss': loss_train,\n",
            "\r 34%|███▍      | 34/100 [00:17<00:30,  2.16it/s]"
          ]
        },
        {
          "output_type": "stream",
          "name": "stdout",
          "text": [
            "loss_train: 0.3606, acc_train: 0.9677,loss_val: 0.5281, acc_val: 0.7742.\n"
          ]
        },
        {
          "output_type": "stream",
          "name": "stderr",
          "text": [
            "<ipython-input-27-0739944d3bc2>:20: FutureWarning: The frame.append method is deprecated and will be removed from pandas in a future version. Use pandas.concat instead.\n",
            "  resultdf = resultdf.append({'train_acc': acc_train, 'train_f1': f1_train, 'train_auc': auc_train, 'train_loss': loss_train,\n",
            "\r 35%|███▌      | 35/100 [00:17<00:31,  2.06it/s]"
          ]
        },
        {
          "output_type": "stream",
          "name": "stdout",
          "text": [
            "loss_train: 0.3943, acc_train: 0.9355,loss_val: 0.5124, acc_val: 0.8387.\n"
          ]
        },
        {
          "output_type": "stream",
          "name": "stderr",
          "text": [
            "<ipython-input-27-0739944d3bc2>:20: FutureWarning: The frame.append method is deprecated and will be removed from pandas in a future version. Use pandas.concat instead.\n",
            "  resultdf = resultdf.append({'train_acc': acc_train, 'train_f1': f1_train, 'train_auc': auc_train, 'train_loss': loss_train,\n",
            "\r 36%|███▌      | 36/100 [00:18<00:37,  1.72it/s]"
          ]
        },
        {
          "output_type": "stream",
          "name": "stdout",
          "text": [
            "loss_train: 0.3543, acc_train: 0.9839,loss_val: 0.5269, acc_val: 0.7742.\n"
          ]
        },
        {
          "output_type": "stream",
          "name": "stderr",
          "text": [
            "<ipython-input-27-0739944d3bc2>:20: FutureWarning: The frame.append method is deprecated and will be removed from pandas in a future version. Use pandas.concat instead.\n",
            "  resultdf = resultdf.append({'train_acc': acc_train, 'train_f1': f1_train, 'train_auc': auc_train, 'train_loss': loss_train,\n",
            "\r 37%|███▋      | 37/100 [00:19<00:34,  1.81it/s]"
          ]
        },
        {
          "output_type": "stream",
          "name": "stdout",
          "text": [
            "loss_train: 0.3403, acc_train: 1.0000,loss_val: 0.5380, acc_val: 0.7419.\n"
          ]
        },
        {
          "output_type": "stream",
          "name": "stderr",
          "text": [
            "<ipython-input-27-0739944d3bc2>:20: FutureWarning: The frame.append method is deprecated and will be removed from pandas in a future version. Use pandas.concat instead.\n",
            "  resultdf = resultdf.append({'train_acc': acc_train, 'train_f1': f1_train, 'train_auc': auc_train, 'train_loss': loss_train,\n",
            "\r 38%|███▊      | 38/100 [00:20<00:39,  1.56it/s]"
          ]
        },
        {
          "output_type": "stream",
          "name": "stdout",
          "text": [
            "loss_train: 0.3418, acc_train: 0.9839,loss_val: 0.5622, acc_val: 0.7097.\n"
          ]
        },
        {
          "output_type": "stream",
          "name": "stderr",
          "text": [
            "<ipython-input-27-0739944d3bc2>:20: FutureWarning: The frame.append method is deprecated and will be removed from pandas in a future version. Use pandas.concat instead.\n",
            "  resultdf = resultdf.append({'train_acc': acc_train, 'train_f1': f1_train, 'train_auc': auc_train, 'train_loss': loss_train,\n",
            "\r 39%|███▉      | 39/100 [00:21<00:46,  1.31it/s]"
          ]
        },
        {
          "output_type": "stream",
          "name": "stdout",
          "text": [
            "loss_train: 0.3524, acc_train: 0.9839,loss_val: 0.5373, acc_val: 0.7419.\n"
          ]
        },
        {
          "output_type": "stream",
          "name": "stderr",
          "text": [
            "<ipython-input-27-0739944d3bc2>:20: FutureWarning: The frame.append method is deprecated and will be removed from pandas in a future version. Use pandas.concat instead.\n",
            "  resultdf = resultdf.append({'train_acc': acc_train, 'train_f1': f1_train, 'train_auc': auc_train, 'train_loss': loss_train,\n",
            "\r 40%|████      | 40/100 [00:21<00:45,  1.31it/s]"
          ]
        },
        {
          "output_type": "stream",
          "name": "stdout",
          "text": [
            "loss_train: 0.3449, acc_train: 0.9839,loss_val: 0.5312, acc_val: 0.8065.\n"
          ]
        },
        {
          "output_type": "stream",
          "name": "stderr",
          "text": [
            "<ipython-input-27-0739944d3bc2>:20: FutureWarning: The frame.append method is deprecated and will be removed from pandas in a future version. Use pandas.concat instead.\n",
            "  resultdf = resultdf.append({'train_acc': acc_train, 'train_f1': f1_train, 'train_auc': auc_train, 'train_loss': loss_train,\n",
            "\r 41%|████      | 41/100 [00:22<00:48,  1.21it/s]"
          ]
        },
        {
          "output_type": "stream",
          "name": "stdout",
          "text": [
            "loss_train: 0.3328, acc_train: 0.9839,loss_val: 0.5603, acc_val: 0.7097.\n"
          ]
        },
        {
          "output_type": "stream",
          "name": "stderr",
          "text": [
            "<ipython-input-27-0739944d3bc2>:20: FutureWarning: The frame.append method is deprecated and will be removed from pandas in a future version. Use pandas.concat instead.\n",
            "  resultdf = resultdf.append({'train_acc': acc_train, 'train_f1': f1_train, 'train_auc': auc_train, 'train_loss': loss_train,\n",
            "\r 42%|████▏     | 42/100 [00:23<00:47,  1.23it/s]"
          ]
        },
        {
          "output_type": "stream",
          "name": "stdout",
          "text": [
            "loss_train: 0.3774, acc_train: 0.9677,loss_val: 0.5046, acc_val: 0.8387.\n"
          ]
        },
        {
          "output_type": "stream",
          "name": "stderr",
          "text": [
            "<ipython-input-27-0739944d3bc2>:20: FutureWarning: The frame.append method is deprecated and will be removed from pandas in a future version. Use pandas.concat instead.\n",
            "  resultdf = resultdf.append({'train_acc': acc_train, 'train_f1': f1_train, 'train_auc': auc_train, 'train_loss': loss_train,\n",
            "\r 43%|████▎     | 43/100 [00:24<00:45,  1.24it/s]"
          ]
        },
        {
          "output_type": "stream",
          "name": "stdout",
          "text": [
            "loss_train: 0.3582, acc_train: 0.9355,loss_val: 0.5233, acc_val: 0.7742.\n"
          ]
        },
        {
          "output_type": "stream",
          "name": "stderr",
          "text": [
            "<ipython-input-27-0739944d3bc2>:20: FutureWarning: The frame.append method is deprecated and will be removed from pandas in a future version. Use pandas.concat instead.\n",
            "  resultdf = resultdf.append({'train_acc': acc_train, 'train_f1': f1_train, 'train_auc': auc_train, 'train_loss': loss_train,\n",
            "\r 44%|████▍     | 44/100 [00:24<00:41,  1.35it/s]"
          ]
        },
        {
          "output_type": "stream",
          "name": "stdout",
          "text": [
            "loss_train: 0.3497, acc_train: 0.9677,loss_val: 0.7223, acc_val: 0.5806.\n"
          ]
        },
        {
          "output_type": "stream",
          "name": "stderr",
          "text": [
            "<ipython-input-27-0739944d3bc2>:20: FutureWarning: The frame.append method is deprecated and will be removed from pandas in a future version. Use pandas.concat instead.\n",
            "  resultdf = resultdf.append({'train_acc': acc_train, 'train_f1': f1_train, 'train_auc': auc_train, 'train_loss': loss_train,\n",
            "\r 45%|████▌     | 45/100 [00:25<00:36,  1.52it/s]"
          ]
        },
        {
          "output_type": "stream",
          "name": "stdout",
          "text": [
            "loss_train: 0.3595, acc_train: 0.9677,loss_val: 0.7099, acc_val: 0.6129.\n"
          ]
        },
        {
          "output_type": "stream",
          "name": "stderr",
          "text": [
            "<ipython-input-27-0739944d3bc2>:20: FutureWarning: The frame.append method is deprecated and will be removed from pandas in a future version. Use pandas.concat instead.\n",
            "  resultdf = resultdf.append({'train_acc': acc_train, 'train_f1': f1_train, 'train_auc': auc_train, 'train_loss': loss_train,\n",
            "\r 46%|████▌     | 46/100 [00:25<00:31,  1.70it/s]"
          ]
        },
        {
          "output_type": "stream",
          "name": "stdout",
          "text": [
            "loss_train: 0.3692, acc_train: 0.9516,loss_val: 0.6810, acc_val: 0.6129.\n"
          ]
        },
        {
          "output_type": "stream",
          "name": "stderr",
          "text": [
            "<ipython-input-27-0739944d3bc2>:20: FutureWarning: The frame.append method is deprecated and will be removed from pandas in a future version. Use pandas.concat instead.\n",
            "  resultdf = resultdf.append({'train_acc': acc_train, 'train_f1': f1_train, 'train_auc': auc_train, 'train_loss': loss_train,\n",
            "\r 47%|████▋     | 47/100 [00:26<00:29,  1.79it/s]"
          ]
        },
        {
          "output_type": "stream",
          "name": "stdout",
          "text": [
            "loss_train: 0.4226, acc_train: 0.8871,loss_val: 0.7025, acc_val: 0.6129.\n"
          ]
        },
        {
          "output_type": "stream",
          "name": "stderr",
          "text": [
            "<ipython-input-27-0739944d3bc2>:20: FutureWarning: The frame.append method is deprecated and will be removed from pandas in a future version. Use pandas.concat instead.\n",
            "  resultdf = resultdf.append({'train_acc': acc_train, 'train_f1': f1_train, 'train_auc': auc_train, 'train_loss': loss_train,\n",
            "\r 48%|████▊     | 48/100 [00:27<00:30,  1.71it/s]"
          ]
        },
        {
          "output_type": "stream",
          "name": "stdout",
          "text": [
            "loss_train: 0.4010, acc_train: 0.9032,loss_val: 0.7048, acc_val: 0.6452.\n"
          ]
        },
        {
          "output_type": "stream",
          "name": "stderr",
          "text": [
            "<ipython-input-27-0739944d3bc2>:20: FutureWarning: The frame.append method is deprecated and will be removed from pandas in a future version. Use pandas.concat instead.\n",
            "  resultdf = resultdf.append({'train_acc': acc_train, 'train_f1': f1_train, 'train_auc': auc_train, 'train_loss': loss_train,\n",
            "\r 49%|████▉     | 49/100 [00:27<00:26,  1.95it/s]"
          ]
        },
        {
          "output_type": "stream",
          "name": "stdout",
          "text": [
            "loss_train: 0.4311, acc_train: 0.8710,loss_val: 0.7186, acc_val: 0.5161.\n"
          ]
        },
        {
          "output_type": "stream",
          "name": "stderr",
          "text": [
            "<ipython-input-27-0739944d3bc2>:20: FutureWarning: The frame.append method is deprecated and will be removed from pandas in a future version. Use pandas.concat instead.\n",
            "  resultdf = resultdf.append({'train_acc': acc_train, 'train_f1': f1_train, 'train_auc': auc_train, 'train_loss': loss_train,\n",
            "\r 50%|█████     | 50/100 [00:27<00:22,  2.25it/s]"
          ]
        },
        {
          "output_type": "stream",
          "name": "stdout",
          "text": [
            "loss_train: 0.4656, acc_train: 0.8226,loss_val: 0.7260, acc_val: 0.5484.\n"
          ]
        },
        {
          "output_type": "stream",
          "name": "stderr",
          "text": [
            "<ipython-input-27-0739944d3bc2>:20: FutureWarning: The frame.append method is deprecated and will be removed from pandas in a future version. Use pandas.concat instead.\n",
            "  resultdf = resultdf.append({'train_acc': acc_train, 'train_f1': f1_train, 'train_auc': auc_train, 'train_loss': loss_train,\n",
            "\r 51%|█████     | 51/100 [00:27<00:19,  2.55it/s]"
          ]
        },
        {
          "output_type": "stream",
          "name": "stdout",
          "text": [
            "loss_train: 0.3726, acc_train: 0.9516,loss_val: 0.7788, acc_val: 0.4839.\n"
          ]
        },
        {
          "output_type": "stream",
          "name": "stderr",
          "text": [
            "<ipython-input-27-0739944d3bc2>:20: FutureWarning: The frame.append method is deprecated and will be removed from pandas in a future version. Use pandas.concat instead.\n",
            "  resultdf = resultdf.append({'train_acc': acc_train, 'train_f1': f1_train, 'train_auc': auc_train, 'train_loss': loss_train,\n",
            "\r 52%|█████▏    | 52/100 [00:28<00:17,  2.76it/s]"
          ]
        },
        {
          "output_type": "stream",
          "name": "stdout",
          "text": [
            "loss_train: 0.3529, acc_train: 0.9677,loss_val: 0.7598, acc_val: 0.5161.\n"
          ]
        },
        {
          "output_type": "stream",
          "name": "stderr",
          "text": [
            "<ipython-input-27-0739944d3bc2>:20: FutureWarning: The frame.append method is deprecated and will be removed from pandas in a future version. Use pandas.concat instead.\n",
            "  resultdf = resultdf.append({'train_acc': acc_train, 'train_f1': f1_train, 'train_auc': auc_train, 'train_loss': loss_train,\n",
            "\r 53%|█████▎    | 53/100 [00:28<00:16,  2.90it/s]"
          ]
        },
        {
          "output_type": "stream",
          "name": "stdout",
          "text": [
            "loss_train: 0.3606, acc_train: 0.9516,loss_val: 0.6859, acc_val: 0.5806.\n"
          ]
        },
        {
          "output_type": "stream",
          "name": "stderr",
          "text": [
            "<ipython-input-27-0739944d3bc2>:20: FutureWarning: The frame.append method is deprecated and will be removed from pandas in a future version. Use pandas.concat instead.\n",
            "  resultdf = resultdf.append({'train_acc': acc_train, 'train_f1': f1_train, 'train_auc': auc_train, 'train_loss': loss_train,\n",
            "\r 54%|█████▍    | 54/100 [00:28<00:14,  3.08it/s]"
          ]
        },
        {
          "output_type": "stream",
          "name": "stdout",
          "text": [
            "loss_train: 0.3374, acc_train: 1.0000,loss_val: 0.6166, acc_val: 0.6452.\n"
          ]
        },
        {
          "output_type": "stream",
          "name": "stderr",
          "text": [
            "<ipython-input-27-0739944d3bc2>:20: FutureWarning: The frame.append method is deprecated and will be removed from pandas in a future version. Use pandas.concat instead.\n",
            "  resultdf = resultdf.append({'train_acc': acc_train, 'train_f1': f1_train, 'train_auc': auc_train, 'train_loss': loss_train,\n",
            "\r 55%|█████▌    | 55/100 [00:29<00:14,  3.21it/s]"
          ]
        },
        {
          "output_type": "stream",
          "name": "stdout",
          "text": [
            "loss_train: 0.3583, acc_train: 0.9839,loss_val: 0.5618, acc_val: 0.7097.\n"
          ]
        },
        {
          "output_type": "stream",
          "name": "stderr",
          "text": [
            "<ipython-input-27-0739944d3bc2>:20: FutureWarning: The frame.append method is deprecated and will be removed from pandas in a future version. Use pandas.concat instead.\n",
            "  resultdf = resultdf.append({'train_acc': acc_train, 'train_f1': f1_train, 'train_auc': auc_train, 'train_loss': loss_train,\n",
            "\r 56%|█████▌    | 56/100 [00:29<00:13,  3.27it/s]"
          ]
        },
        {
          "output_type": "stream",
          "name": "stdout",
          "text": [
            "loss_train: 0.3665, acc_train: 0.9677,loss_val: 0.6111, acc_val: 0.7097.\n"
          ]
        },
        {
          "output_type": "stream",
          "name": "stderr",
          "text": [
            "<ipython-input-27-0739944d3bc2>:20: FutureWarning: The frame.append method is deprecated and will be removed from pandas in a future version. Use pandas.concat instead.\n",
            "  resultdf = resultdf.append({'train_acc': acc_train, 'train_f1': f1_train, 'train_auc': auc_train, 'train_loss': loss_train,\n",
            "\r 57%|█████▋    | 57/100 [00:29<00:12,  3.37it/s]"
          ]
        },
        {
          "output_type": "stream",
          "name": "stdout",
          "text": [
            "loss_train: 0.3931, acc_train: 0.9032,loss_val: 0.6776, acc_val: 0.6452.\n"
          ]
        },
        {
          "output_type": "stream",
          "name": "stderr",
          "text": [
            "<ipython-input-27-0739944d3bc2>:20: FutureWarning: The frame.append method is deprecated and will be removed from pandas in a future version. Use pandas.concat instead.\n",
            "  resultdf = resultdf.append({'train_acc': acc_train, 'train_f1': f1_train, 'train_auc': auc_train, 'train_loss': loss_train,\n",
            "\r 58%|█████▊    | 58/100 [00:29<00:12,  3.38it/s]"
          ]
        },
        {
          "output_type": "stream",
          "name": "stdout",
          "text": [
            "loss_train: 0.3501, acc_train: 0.9677,loss_val: 0.6202, acc_val: 0.6774.\n"
          ]
        },
        {
          "output_type": "stream",
          "name": "stderr",
          "text": [
            "<ipython-input-27-0739944d3bc2>:20: FutureWarning: The frame.append method is deprecated and will be removed from pandas in a future version. Use pandas.concat instead.\n",
            "  resultdf = resultdf.append({'train_acc': acc_train, 'train_f1': f1_train, 'train_auc': auc_train, 'train_loss': loss_train,\n",
            "\r 59%|█████▉    | 59/100 [00:30<00:12,  3.38it/s]"
          ]
        },
        {
          "output_type": "stream",
          "name": "stdout",
          "text": [
            "loss_train: 0.3512, acc_train: 0.9677,loss_val: 0.5622, acc_val: 0.7097.\n"
          ]
        },
        {
          "output_type": "stream",
          "name": "stderr",
          "text": [
            "<ipython-input-27-0739944d3bc2>:20: FutureWarning: The frame.append method is deprecated and will be removed from pandas in a future version. Use pandas.concat instead.\n",
            "  resultdf = resultdf.append({'train_acc': acc_train, 'train_f1': f1_train, 'train_auc': auc_train, 'train_loss': loss_train,\n",
            "\r 60%|██████    | 60/100 [00:30<00:11,  3.36it/s]"
          ]
        },
        {
          "output_type": "stream",
          "name": "stdout",
          "text": [
            "loss_train: 0.3719, acc_train: 0.9355,loss_val: 0.5443, acc_val: 0.7742.\n"
          ]
        },
        {
          "output_type": "stream",
          "name": "stderr",
          "text": [
            "<ipython-input-27-0739944d3bc2>:20: FutureWarning: The frame.append method is deprecated and will be removed from pandas in a future version. Use pandas.concat instead.\n",
            "  resultdf = resultdf.append({'train_acc': acc_train, 'train_f1': f1_train, 'train_auc': auc_train, 'train_loss': loss_train,\n",
            "\r 61%|██████    | 61/100 [00:30<00:11,  3.38it/s]"
          ]
        },
        {
          "output_type": "stream",
          "name": "stdout",
          "text": [
            "loss_train: 0.3474, acc_train: 0.9677,loss_val: 0.5313, acc_val: 0.8065.\n"
          ]
        },
        {
          "output_type": "stream",
          "name": "stderr",
          "text": [
            "<ipython-input-27-0739944d3bc2>:20: FutureWarning: The frame.append method is deprecated and will be removed from pandas in a future version. Use pandas.concat instead.\n",
            "  resultdf = resultdf.append({'train_acc': acc_train, 'train_f1': f1_train, 'train_auc': auc_train, 'train_loss': loss_train,\n",
            "\r 62%|██████▏   | 62/100 [00:31<00:11,  3.41it/s]"
          ]
        },
        {
          "output_type": "stream",
          "name": "stdout",
          "text": [
            "loss_train: 0.3235, acc_train: 1.0000,loss_val: 0.5198, acc_val: 0.8065.\n"
          ]
        },
        {
          "output_type": "stream",
          "name": "stderr",
          "text": [
            "<ipython-input-27-0739944d3bc2>:20: FutureWarning: The frame.append method is deprecated and will be removed from pandas in a future version. Use pandas.concat instead.\n",
            "  resultdf = resultdf.append({'train_acc': acc_train, 'train_f1': f1_train, 'train_auc': auc_train, 'train_loss': loss_train,\n",
            "\r 63%|██████▎   | 63/100 [00:31<00:10,  3.47it/s]"
          ]
        },
        {
          "output_type": "stream",
          "name": "stdout",
          "text": [
            "loss_train: 0.3705, acc_train: 0.9355,loss_val: 0.5310, acc_val: 0.7742.\n"
          ]
        },
        {
          "output_type": "stream",
          "name": "stderr",
          "text": [
            "<ipython-input-27-0739944d3bc2>:20: FutureWarning: The frame.append method is deprecated and will be removed from pandas in a future version. Use pandas.concat instead.\n",
            "  resultdf = resultdf.append({'train_acc': acc_train, 'train_f1': f1_train, 'train_auc': auc_train, 'train_loss': loss_train,\n",
            "\r 64%|██████▍   | 64/100 [00:31<00:10,  3.51it/s]"
          ]
        },
        {
          "output_type": "stream",
          "name": "stdout",
          "text": [
            "loss_train: 0.3318, acc_train: 0.9839,loss_val: 0.5412, acc_val: 0.7742.\n"
          ]
        },
        {
          "output_type": "stream",
          "name": "stderr",
          "text": [
            "<ipython-input-27-0739944d3bc2>:20: FutureWarning: The frame.append method is deprecated and will be removed from pandas in a future version. Use pandas.concat instead.\n",
            "  resultdf = resultdf.append({'train_acc': acc_train, 'train_f1': f1_train, 'train_auc': auc_train, 'train_loss': loss_train,\n",
            "\r 65%|██████▌   | 65/100 [00:31<00:10,  3.47it/s]"
          ]
        },
        {
          "output_type": "stream",
          "name": "stdout",
          "text": [
            "loss_train: 0.3440, acc_train: 0.9839,loss_val: 0.5346, acc_val: 0.7419.\n"
          ]
        },
        {
          "output_type": "stream",
          "name": "stderr",
          "text": [
            "<ipython-input-27-0739944d3bc2>:20: FutureWarning: The frame.append method is deprecated and will be removed from pandas in a future version. Use pandas.concat instead.\n",
            "  resultdf = resultdf.append({'train_acc': acc_train, 'train_f1': f1_train, 'train_auc': auc_train, 'train_loss': loss_train,\n",
            "\r 66%|██████▌   | 66/100 [00:32<00:09,  3.43it/s]"
          ]
        },
        {
          "output_type": "stream",
          "name": "stdout",
          "text": [
            "loss_train: 0.3345, acc_train: 0.9839,loss_val: 0.4928, acc_val: 0.8387.\n"
          ]
        },
        {
          "output_type": "stream",
          "name": "stderr",
          "text": [
            "<ipython-input-27-0739944d3bc2>:20: FutureWarning: The frame.append method is deprecated and will be removed from pandas in a future version. Use pandas.concat instead.\n",
            "  resultdf = resultdf.append({'train_acc': acc_train, 'train_f1': f1_train, 'train_auc': auc_train, 'train_loss': loss_train,\n",
            "\r 67%|██████▋   | 67/100 [00:32<00:09,  3.41it/s]"
          ]
        },
        {
          "output_type": "stream",
          "name": "stdout",
          "text": [
            "loss_train: 0.3175, acc_train: 1.0000,loss_val: 0.5454, acc_val: 0.7742.\n"
          ]
        },
        {
          "output_type": "stream",
          "name": "stderr",
          "text": [
            "<ipython-input-27-0739944d3bc2>:20: FutureWarning: The frame.append method is deprecated and will be removed from pandas in a future version. Use pandas.concat instead.\n",
            "  resultdf = resultdf.append({'train_acc': acc_train, 'train_f1': f1_train, 'train_auc': auc_train, 'train_loss': loss_train,\n",
            "\r 68%|██████▊   | 68/100 [00:32<00:09,  3.36it/s]"
          ]
        },
        {
          "output_type": "stream",
          "name": "stdout",
          "text": [
            "loss_train: 0.3489, acc_train: 0.9839,loss_val: 0.5533, acc_val: 0.7419.\n"
          ]
        },
        {
          "output_type": "stream",
          "name": "stderr",
          "text": [
            "<ipython-input-27-0739944d3bc2>:20: FutureWarning: The frame.append method is deprecated and will be removed from pandas in a future version. Use pandas.concat instead.\n",
            "  resultdf = resultdf.append({'train_acc': acc_train, 'train_f1': f1_train, 'train_auc': auc_train, 'train_loss': loss_train,\n",
            "\r 69%|██████▉   | 69/100 [00:33<00:09,  3.34it/s]"
          ]
        },
        {
          "output_type": "stream",
          "name": "stdout",
          "text": [
            "loss_train: 0.3368, acc_train: 0.9839,loss_val: 0.7585, acc_val: 0.5161.\n"
          ]
        },
        {
          "output_type": "stream",
          "name": "stderr",
          "text": [
            "<ipython-input-27-0739944d3bc2>:20: FutureWarning: The frame.append method is deprecated and will be removed from pandas in a future version. Use pandas.concat instead.\n",
            "  resultdf = resultdf.append({'train_acc': acc_train, 'train_f1': f1_train, 'train_auc': auc_train, 'train_loss': loss_train,\n",
            "\r 70%|███████   | 70/100 [00:33<00:09,  3.31it/s]"
          ]
        },
        {
          "output_type": "stream",
          "name": "stdout",
          "text": [
            "loss_train: 0.3563, acc_train: 0.9677,loss_val: 0.6993, acc_val: 0.5806.\n"
          ]
        },
        {
          "output_type": "stream",
          "name": "stderr",
          "text": [
            "<ipython-input-27-0739944d3bc2>:20: FutureWarning: The frame.append method is deprecated and will be removed from pandas in a future version. Use pandas.concat instead.\n",
            "  resultdf = resultdf.append({'train_acc': acc_train, 'train_f1': f1_train, 'train_auc': auc_train, 'train_loss': loss_train,\n",
            "\r 71%|███████   | 71/100 [00:33<00:08,  3.40it/s]"
          ]
        },
        {
          "output_type": "stream",
          "name": "stdout",
          "text": [
            "loss_train: 0.3353, acc_train: 0.9839,loss_val: 0.5548, acc_val: 0.7419.\n"
          ]
        },
        {
          "output_type": "stream",
          "name": "stderr",
          "text": [
            "<ipython-input-27-0739944d3bc2>:20: FutureWarning: The frame.append method is deprecated and will be removed from pandas in a future version. Use pandas.concat instead.\n",
            "  resultdf = resultdf.append({'train_acc': acc_train, 'train_f1': f1_train, 'train_auc': auc_train, 'train_loss': loss_train,\n",
            "\r 72%|███████▏  | 72/100 [00:34<00:08,  3.46it/s]"
          ]
        },
        {
          "output_type": "stream",
          "name": "stdout",
          "text": [
            "loss_train: 0.3355, acc_train: 0.9839,loss_val: 0.5042, acc_val: 0.8065.\n"
          ]
        },
        {
          "output_type": "stream",
          "name": "stderr",
          "text": [
            "<ipython-input-27-0739944d3bc2>:20: FutureWarning: The frame.append method is deprecated and will be removed from pandas in a future version. Use pandas.concat instead.\n",
            "  resultdf = resultdf.append({'train_acc': acc_train, 'train_f1': f1_train, 'train_auc': auc_train, 'train_loss': loss_train,\n",
            "\r 73%|███████▎  | 73/100 [00:34<00:07,  3.42it/s]"
          ]
        },
        {
          "output_type": "stream",
          "name": "stdout",
          "text": [
            "loss_train: 0.3625, acc_train: 0.9516,loss_val: 0.5322, acc_val: 0.7742.\n"
          ]
        },
        {
          "output_type": "stream",
          "name": "stderr",
          "text": [
            "<ipython-input-27-0739944d3bc2>:20: FutureWarning: The frame.append method is deprecated and will be removed from pandas in a future version. Use pandas.concat instead.\n",
            "  resultdf = resultdf.append({'train_acc': acc_train, 'train_f1': f1_train, 'train_auc': auc_train, 'train_loss': loss_train,\n",
            "\r 74%|███████▍  | 74/100 [00:34<00:07,  3.35it/s]"
          ]
        },
        {
          "output_type": "stream",
          "name": "stdout",
          "text": [
            "loss_train: 0.3367, acc_train: 0.9839,loss_val: 0.5691, acc_val: 0.7419.\n"
          ]
        },
        {
          "output_type": "stream",
          "name": "stderr",
          "text": [
            "<ipython-input-27-0739944d3bc2>:20: FutureWarning: The frame.append method is deprecated and will be removed from pandas in a future version. Use pandas.concat instead.\n",
            "  resultdf = resultdf.append({'train_acc': acc_train, 'train_f1': f1_train, 'train_auc': auc_train, 'train_loss': loss_train,\n",
            "\r 75%|███████▌  | 75/100 [00:34<00:07,  3.30it/s]"
          ]
        },
        {
          "output_type": "stream",
          "name": "stdout",
          "text": [
            "loss_train: 0.3417, acc_train: 0.9839,loss_val: 0.5731, acc_val: 0.7097.\n"
          ]
        },
        {
          "output_type": "stream",
          "name": "stderr",
          "text": [
            "<ipython-input-27-0739944d3bc2>:20: FutureWarning: The frame.append method is deprecated and will be removed from pandas in a future version. Use pandas.concat instead.\n",
            "  resultdf = resultdf.append({'train_acc': acc_train, 'train_f1': f1_train, 'train_auc': auc_train, 'train_loss': loss_train,\n",
            "\r 76%|███████▌  | 76/100 [00:35<00:07,  3.19it/s]"
          ]
        },
        {
          "output_type": "stream",
          "name": "stdout",
          "text": [
            "loss_train: 0.3787, acc_train: 0.9355,loss_val: 0.5464, acc_val: 0.7742.\n"
          ]
        },
        {
          "output_type": "stream",
          "name": "stderr",
          "text": [
            "<ipython-input-27-0739944d3bc2>:20: FutureWarning: The frame.append method is deprecated and will be removed from pandas in a future version. Use pandas.concat instead.\n",
            "  resultdf = resultdf.append({'train_acc': acc_train, 'train_f1': f1_train, 'train_auc': auc_train, 'train_loss': loss_train,\n",
            "\r 77%|███████▋  | 77/100 [00:35<00:07,  3.16it/s]"
          ]
        },
        {
          "output_type": "stream",
          "name": "stdout",
          "text": [
            "loss_train: 0.3482, acc_train: 0.9677,loss_val: 0.5326, acc_val: 0.7742.\n"
          ]
        },
        {
          "output_type": "stream",
          "name": "stderr",
          "text": [
            "<ipython-input-27-0739944d3bc2>:20: FutureWarning: The frame.append method is deprecated and will be removed from pandas in a future version. Use pandas.concat instead.\n",
            "  resultdf = resultdf.append({'train_acc': acc_train, 'train_f1': f1_train, 'train_auc': auc_train, 'train_loss': loss_train,\n",
            "\r 78%|███████▊  | 78/100 [00:35<00:07,  3.03it/s]"
          ]
        },
        {
          "output_type": "stream",
          "name": "stdout",
          "text": [
            "loss_train: 0.3498, acc_train: 0.9677,loss_val: 0.5006, acc_val: 0.8065.\n"
          ]
        },
        {
          "output_type": "stream",
          "name": "stderr",
          "text": [
            "<ipython-input-27-0739944d3bc2>:20: FutureWarning: The frame.append method is deprecated and will be removed from pandas in a future version. Use pandas.concat instead.\n",
            "  resultdf = resultdf.append({'train_acc': acc_train, 'train_f1': f1_train, 'train_auc': auc_train, 'train_loss': loss_train,\n",
            "\r 79%|███████▉  | 79/100 [00:36<00:07,  2.91it/s]"
          ]
        },
        {
          "output_type": "stream",
          "name": "stdout",
          "text": [
            "loss_train: 0.3386, acc_train: 0.9839,loss_val: 0.5070, acc_val: 0.8065.\n"
          ]
        },
        {
          "output_type": "stream",
          "name": "stderr",
          "text": [
            "<ipython-input-27-0739944d3bc2>:20: FutureWarning: The frame.append method is deprecated and will be removed from pandas in a future version. Use pandas.concat instead.\n",
            "  resultdf = resultdf.append({'train_acc': acc_train, 'train_f1': f1_train, 'train_auc': auc_train, 'train_loss': loss_train,\n",
            "\r 80%|████████  | 80/100 [00:36<00:06,  2.93it/s]"
          ]
        },
        {
          "output_type": "stream",
          "name": "stdout",
          "text": [
            "loss_train: 0.3326, acc_train: 0.9839,loss_val: 0.5094, acc_val: 0.8065.\n"
          ]
        },
        {
          "output_type": "stream",
          "name": "stderr",
          "text": [
            "<ipython-input-27-0739944d3bc2>:20: FutureWarning: The frame.append method is deprecated and will be removed from pandas in a future version. Use pandas.concat instead.\n",
            "  resultdf = resultdf.append({'train_acc': acc_train, 'train_f1': f1_train, 'train_auc': auc_train, 'train_loss': loss_train,\n",
            "\r 81%|████████  | 81/100 [00:37<00:06,  2.92it/s]"
          ]
        },
        {
          "output_type": "stream",
          "name": "stdout",
          "text": [
            "loss_train: 0.3341, acc_train: 0.9839,loss_val: 0.5013, acc_val: 0.8065.\n"
          ]
        },
        {
          "output_type": "stream",
          "name": "stderr",
          "text": [
            "<ipython-input-27-0739944d3bc2>:20: FutureWarning: The frame.append method is deprecated and will be removed from pandas in a future version. Use pandas.concat instead.\n",
            "  resultdf = resultdf.append({'train_acc': acc_train, 'train_f1': f1_train, 'train_auc': auc_train, 'train_loss': loss_train,\n",
            "\r 82%|████████▏ | 82/100 [00:37<00:06,  2.90it/s]"
          ]
        },
        {
          "output_type": "stream",
          "name": "stdout",
          "text": [
            "loss_train: 0.3306, acc_train: 0.9839,loss_val: 0.4940, acc_val: 0.8065.\n"
          ]
        },
        {
          "output_type": "stream",
          "name": "stderr",
          "text": [
            "<ipython-input-27-0739944d3bc2>:20: FutureWarning: The frame.append method is deprecated and will be removed from pandas in a future version. Use pandas.concat instead.\n",
            "  resultdf = resultdf.append({'train_acc': acc_train, 'train_f1': f1_train, 'train_auc': auc_train, 'train_loss': loss_train,\n",
            "\r 83%|████████▎ | 83/100 [00:37<00:05,  2.86it/s]"
          ]
        },
        {
          "output_type": "stream",
          "name": "stdout",
          "text": [
            "loss_train: 0.3311, acc_train: 0.9839,loss_val: 0.4915, acc_val: 0.8065.\n"
          ]
        },
        {
          "output_type": "stream",
          "name": "stderr",
          "text": [
            "<ipython-input-27-0739944d3bc2>:20: FutureWarning: The frame.append method is deprecated and will be removed from pandas in a future version. Use pandas.concat instead.\n",
            "  resultdf = resultdf.append({'train_acc': acc_train, 'train_f1': f1_train, 'train_auc': auc_train, 'train_loss': loss_train,\n",
            "\r 84%|████████▍ | 84/100 [00:38<00:05,  2.84it/s]"
          ]
        },
        {
          "output_type": "stream",
          "name": "stdout",
          "text": [
            "loss_train: 0.3326, acc_train: 0.9839,loss_val: 0.4964, acc_val: 0.8065.\n"
          ]
        },
        {
          "output_type": "stream",
          "name": "stderr",
          "text": [
            "<ipython-input-27-0739944d3bc2>:20: FutureWarning: The frame.append method is deprecated and will be removed from pandas in a future version. Use pandas.concat instead.\n",
            "  resultdf = resultdf.append({'train_acc': acc_train, 'train_f1': f1_train, 'train_auc': auc_train, 'train_loss': loss_train,\n",
            "\r 85%|████████▌ | 85/100 [00:38<00:05,  2.65it/s]"
          ]
        },
        {
          "output_type": "stream",
          "name": "stdout",
          "text": [
            "loss_train: 0.3382, acc_train: 0.9677,loss_val: 0.5013, acc_val: 0.8065.\n"
          ]
        },
        {
          "output_type": "stream",
          "name": "stderr",
          "text": [
            "<ipython-input-27-0739944d3bc2>:20: FutureWarning: The frame.append method is deprecated and will be removed from pandas in a future version. Use pandas.concat instead.\n",
            "  resultdf = resultdf.append({'train_acc': acc_train, 'train_f1': f1_train, 'train_auc': auc_train, 'train_loss': loss_train,\n",
            "\r 86%|████████▌ | 86/100 [00:38<00:05,  2.65it/s]"
          ]
        },
        {
          "output_type": "stream",
          "name": "stdout",
          "text": [
            "loss_train: 0.3315, acc_train: 0.9839,loss_val: 0.5087, acc_val: 0.7742.\n"
          ]
        },
        {
          "output_type": "stream",
          "name": "stderr",
          "text": [
            "<ipython-input-27-0739944d3bc2>:20: FutureWarning: The frame.append method is deprecated and will be removed from pandas in a future version. Use pandas.concat instead.\n",
            "  resultdf = resultdf.append({'train_acc': acc_train, 'train_f1': f1_train, 'train_auc': auc_train, 'train_loss': loss_train,\n",
            "\r 87%|████████▋ | 87/100 [00:39<00:04,  2.76it/s]"
          ]
        },
        {
          "output_type": "stream",
          "name": "stdout",
          "text": [
            "loss_train: 0.3307, acc_train: 0.9839,loss_val: 0.5018, acc_val: 0.8065.\n"
          ]
        },
        {
          "output_type": "stream",
          "name": "stderr",
          "text": [
            "<ipython-input-27-0739944d3bc2>:20: FutureWarning: The frame.append method is deprecated and will be removed from pandas in a future version. Use pandas.concat instead.\n",
            "  resultdf = resultdf.append({'train_acc': acc_train, 'train_f1': f1_train, 'train_auc': auc_train, 'train_loss': loss_train,\n",
            "\r 88%|████████▊ | 88/100 [00:39<00:04,  2.88it/s]"
          ]
        },
        {
          "output_type": "stream",
          "name": "stdout",
          "text": [
            "loss_train: 0.3322, acc_train: 0.9839,loss_val: 0.4998, acc_val: 0.8387.\n"
          ]
        },
        {
          "output_type": "stream",
          "name": "stderr",
          "text": [
            "<ipython-input-27-0739944d3bc2>:20: FutureWarning: The frame.append method is deprecated and will be removed from pandas in a future version. Use pandas.concat instead.\n",
            "  resultdf = resultdf.append({'train_acc': acc_train, 'train_f1': f1_train, 'train_auc': auc_train, 'train_loss': loss_train,\n",
            "\r 89%|████████▉ | 89/100 [00:39<00:03,  2.96it/s]"
          ]
        },
        {
          "output_type": "stream",
          "name": "stdout",
          "text": [
            "loss_train: 0.3424, acc_train: 0.9677,loss_val: 0.5048, acc_val: 0.8065.\n"
          ]
        },
        {
          "output_type": "stream",
          "name": "stderr",
          "text": [
            "<ipython-input-27-0739944d3bc2>:20: FutureWarning: The frame.append method is deprecated and will be removed from pandas in a future version. Use pandas.concat instead.\n",
            "  resultdf = resultdf.append({'train_acc': acc_train, 'train_f1': f1_train, 'train_auc': auc_train, 'train_loss': loss_train,\n",
            "\r 90%|█████████ | 90/100 [00:40<00:03,  3.09it/s]"
          ]
        },
        {
          "output_type": "stream",
          "name": "stdout",
          "text": [
            "loss_train: 0.3305, acc_train: 0.9839,loss_val: 0.4837, acc_val: 0.8387.\n"
          ]
        },
        {
          "output_type": "stream",
          "name": "stderr",
          "text": [
            "<ipython-input-27-0739944d3bc2>:20: FutureWarning: The frame.append method is deprecated and will be removed from pandas in a future version. Use pandas.concat instead.\n",
            "  resultdf = resultdf.append({'train_acc': acc_train, 'train_f1': f1_train, 'train_auc': auc_train, 'train_loss': loss_train,\n",
            "\r 91%|█████████ | 91/100 [00:40<00:02,  3.12it/s]"
          ]
        },
        {
          "output_type": "stream",
          "name": "stdout",
          "text": [
            "loss_train: 0.3316, acc_train: 0.9839,loss_val: 0.4878, acc_val: 0.8387.\n"
          ]
        },
        {
          "output_type": "stream",
          "name": "stderr",
          "text": [
            "<ipython-input-27-0739944d3bc2>:20: FutureWarning: The frame.append method is deprecated and will be removed from pandas in a future version. Use pandas.concat instead.\n",
            "  resultdf = resultdf.append({'train_acc': acc_train, 'train_f1': f1_train, 'train_auc': auc_train, 'train_loss': loss_train,\n",
            "\r 92%|█████████▏| 92/100 [00:40<00:02,  3.16it/s]"
          ]
        },
        {
          "output_type": "stream",
          "name": "stdout",
          "text": [
            "loss_train: 0.3469, acc_train: 0.9677,loss_val: 0.4940, acc_val: 0.8065.\n"
          ]
        },
        {
          "output_type": "stream",
          "name": "stderr",
          "text": [
            "<ipython-input-27-0739944d3bc2>:20: FutureWarning: The frame.append method is deprecated and will be removed from pandas in a future version. Use pandas.concat instead.\n",
            "  resultdf = resultdf.append({'train_acc': acc_train, 'train_f1': f1_train, 'train_auc': auc_train, 'train_loss': loss_train,\n",
            "\r 93%|█████████▎| 93/100 [00:41<00:02,  3.16it/s]"
          ]
        },
        {
          "output_type": "stream",
          "name": "stdout",
          "text": [
            "loss_train: 0.3344, acc_train: 0.9839,loss_val: 0.4512, acc_val: 0.8710.\n"
          ]
        },
        {
          "output_type": "stream",
          "name": "stderr",
          "text": [
            "<ipython-input-27-0739944d3bc2>:20: FutureWarning: The frame.append method is deprecated and will be removed from pandas in a future version. Use pandas.concat instead.\n",
            "  resultdf = resultdf.append({'train_acc': acc_train, 'train_f1': f1_train, 'train_auc': auc_train, 'train_loss': loss_train,\n",
            "\r 94%|█████████▍| 94/100 [00:41<00:01,  3.20it/s]"
          ]
        },
        {
          "output_type": "stream",
          "name": "stdout",
          "text": [
            "loss_train: 0.3305, acc_train: 0.9839,loss_val: 0.4449, acc_val: 0.8710.\n"
          ]
        },
        {
          "output_type": "stream",
          "name": "stderr",
          "text": [
            "<ipython-input-27-0739944d3bc2>:20: FutureWarning: The frame.append method is deprecated and will be removed from pandas in a future version. Use pandas.concat instead.\n",
            "  resultdf = resultdf.append({'train_acc': acc_train, 'train_f1': f1_train, 'train_auc': auc_train, 'train_loss': loss_train,\n",
            "\r 95%|█████████▌| 95/100 [00:41<00:01,  3.20it/s]"
          ]
        },
        {
          "output_type": "stream",
          "name": "stdout",
          "text": [
            "loss_train: 0.3564, acc_train: 0.9516,loss_val: 0.5019, acc_val: 0.8065.\n"
          ]
        },
        {
          "output_type": "stream",
          "name": "stderr",
          "text": [
            "<ipython-input-27-0739944d3bc2>:20: FutureWarning: The frame.append method is deprecated and will be removed from pandas in a future version. Use pandas.concat instead.\n",
            "  resultdf = resultdf.append({'train_acc': acc_train, 'train_f1': f1_train, 'train_auc': auc_train, 'train_loss': loss_train,\n",
            "\r 96%|█████████▌| 96/100 [00:41<00:01,  3.31it/s]"
          ]
        },
        {
          "output_type": "stream",
          "name": "stdout",
          "text": [
            "loss_train: 0.3468, acc_train: 0.9677,loss_val: 0.5355, acc_val: 0.7742.\n"
          ]
        },
        {
          "output_type": "stream",
          "name": "stderr",
          "text": [
            "<ipython-input-27-0739944d3bc2>:20: FutureWarning: The frame.append method is deprecated and will be removed from pandas in a future version. Use pandas.concat instead.\n",
            "  resultdf = resultdf.append({'train_acc': acc_train, 'train_f1': f1_train, 'train_auc': auc_train, 'train_loss': loss_train,\n",
            "\r 97%|█████████▋| 97/100 [00:42<00:00,  3.32it/s]"
          ]
        },
        {
          "output_type": "stream",
          "name": "stdout",
          "text": [
            "loss_train: 0.3435, acc_train: 0.9677,loss_val: 0.5960, acc_val: 0.7097.\n"
          ]
        },
        {
          "output_type": "stream",
          "name": "stderr",
          "text": [
            "<ipython-input-27-0739944d3bc2>:20: FutureWarning: The frame.append method is deprecated and will be removed from pandas in a future version. Use pandas.concat instead.\n",
            "  resultdf = resultdf.append({'train_acc': acc_train, 'train_f1': f1_train, 'train_auc': auc_train, 'train_loss': loss_train,\n",
            "\r 98%|█████████▊| 98/100 [00:42<00:00,  3.29it/s]"
          ]
        },
        {
          "output_type": "stream",
          "name": "stdout",
          "text": [
            "loss_train: 0.3567, acc_train: 0.9677,loss_val: 0.5535, acc_val: 0.7419.\n"
          ]
        },
        {
          "output_type": "stream",
          "name": "stderr",
          "text": [
            "<ipython-input-27-0739944d3bc2>:20: FutureWarning: The frame.append method is deprecated and will be removed from pandas in a future version. Use pandas.concat instead.\n",
            "  resultdf = resultdf.append({'train_acc': acc_train, 'train_f1': f1_train, 'train_auc': auc_train, 'train_loss': loss_train,\n",
            "\r 99%|█████████▉| 99/100 [00:42<00:00,  3.29it/s]"
          ]
        },
        {
          "output_type": "stream",
          "name": "stdout",
          "text": [
            "loss_train: 0.3422, acc_train: 0.9677,loss_val: 0.5056, acc_val: 0.8065.\n"
          ]
        },
        {
          "output_type": "stream",
          "name": "stderr",
          "text": [
            "<ipython-input-27-0739944d3bc2>:20: FutureWarning: The frame.append method is deprecated and will be removed from pandas in a future version. Use pandas.concat instead.\n",
            "  resultdf = resultdf.append({'train_acc': acc_train, 'train_f1': f1_train, 'train_auc': auc_train, 'train_loss': loss_train,\n",
            "100%|██████████| 100/100 [00:43<00:00,  2.31it/s]"
          ]
        },
        {
          "output_type": "stream",
          "name": "stdout",
          "text": [
            "loss_train: 0.3591, acc_train: 0.9516,loss_val: 0.5174, acc_val: 0.7742.\n"
          ]
        },
        {
          "output_type": "stream",
          "name": "stderr",
          "text": [
            "\n"
          ]
        }
      ]
    },
    {
      "cell_type": "code",
      "source": [
        "#[acc, f1_macro, f1_micro, precision, recall, auc, ap], test_loss = evaluate(test_loader)\n",
        "acc, f1, auc, _ = evaluate(best_model, test_loader)\n",
        "print(f'Test set results: acc: {acc:.4f}, f1: {f1:.4f}, auc: {auc:.4f}')\n",
        "\n",
        "resultdf.to_csv('/content/drive/MyDrive/224W_Project/GNNDP_results.csv')"
      ],
      "metadata": {
        "colab": {
          "base_uri": "https://localhost:8080/"
        },
        "id": "KEDy0mMcYEtq",
        "outputId": "67d44ecf-598b-4178-c0ac-888316c447a2"
      },
      "execution_count": null,
      "outputs": [
        {
          "output_type": "stream",
          "name": "stdout",
          "text": [
            "Test set results: acc: 0.7692, f1: 0.7773, auc: 0.7688\n"
          ]
        }
      ]
    }
  ]
}